{
 "cells": [
  {
   "cell_type": "markdown",
   "id": "185fa1ea",
   "metadata": {
    "papermill": {
     "duration": 0.004988,
     "end_time": "2023-12-21T04:30:03.667587",
     "exception": false,
     "start_time": "2023-12-21T04:30:03.662599",
     "status": "completed"
    },
    "tags": []
   },
   "source": [
    "**This notebook is an exercise in the [Introduction to Machine Learning](https://www.kaggle.com/learn/intro-to-machine-learning) course.  You can reference the tutorial at [this link](https://www.kaggle.com/dansbecker/model-validation).**\n",
    "\n",
    "---\n"
   ]
  },
  {
   "cell_type": "markdown",
   "id": "311ba2ca",
   "metadata": {
    "papermill": {
     "duration": 0.004164,
     "end_time": "2023-12-21T04:30:03.676446",
     "exception": false,
     "start_time": "2023-12-21T04:30:03.672282",
     "status": "completed"
    },
    "tags": []
   },
   "source": [
    "## Recap\n",
    "You've built a model. In this exercise you will test how good your model is.\n",
    "\n",
    "Run the cell below to set up your coding environment where the previous exercise left off."
   ]
  },
  {
   "cell_type": "code",
   "execution_count": 1,
   "id": "65ed3d27",
   "metadata": {
    "execution": {
     "iopub.execute_input": "2023-12-21T04:30:03.688378Z",
     "iopub.status.busy": "2023-12-21T04:30:03.687957Z",
     "iopub.status.idle": "2023-12-21T04:30:06.130291Z",
     "shell.execute_reply": "2023-12-21T04:30:06.128307Z"
    },
    "papermill": {
     "duration": 2.452697,
     "end_time": "2023-12-21T04:30:06.134200",
     "exception": false,
     "start_time": "2023-12-21T04:30:03.681503",
     "status": "completed"
    },
    "tags": []
   },
   "outputs": [
    {
     "name": "stdout",
     "output_type": "stream",
     "text": [
      "First in-sample predictions: [208500. 181500. 223500. 140000. 250000.]\n",
      "Actual target values for those homes: [208500, 181500, 223500, 140000, 250000]\n",
      "Setup Complete\n"
     ]
    }
   ],
   "source": [
    "# Code you have previously used to load data\n",
    "import pandas as pd\n",
    "from sklearn.tree import DecisionTreeRegressor\n",
    "\n",
    "# Path of the file to read\n",
    "iowa_file_path = '../input/home-data-for-ml-course/train.csv'\n",
    "\n",
    "home_data = pd.read_csv(iowa_file_path)\n",
    "y = home_data.SalePrice\n",
    "feature_columns = ['LotArea', 'YearBuilt', '1stFlrSF', '2ndFlrSF', 'FullBath', 'BedroomAbvGr', 'TotRmsAbvGrd']\n",
    "X = home_data[feature_columns]\n",
    "\n",
    "# Specify Model\n",
    "iowa_model = DecisionTreeRegressor()\n",
    "# Fit Model\n",
    "iowa_model.fit(X, y)\n",
    "\n",
    "print(\"First in-sample predictions:\", iowa_model.predict(X.head()))\n",
    "print(\"Actual target values for those homes:\", y.head().tolist())\n",
    "\n",
    "# Set up code checking\n",
    "from learntools.core import binder\n",
    "binder.bind(globals())\n",
    "from learntools.machine_learning.ex4 import *\n",
    "print(\"Setup Complete\")"
   ]
  },
  {
   "cell_type": "markdown",
   "id": "c2a0cd60",
   "metadata": {
    "papermill": {
     "duration": 0.004401,
     "end_time": "2023-12-21T04:30:06.143407",
     "exception": false,
     "start_time": "2023-12-21T04:30:06.139006",
     "status": "completed"
    },
    "tags": []
   },
   "source": [
    "# Exercises\n",
    "\n",
    "## Step 1: Split Your Data\n",
    "Use the `train_test_split` function to split up your data.\n",
    "\n",
    "Give it the argument `random_state=1` so the `check` functions know what to expect when verifying your code.\n",
    "\n",
    "Recall, your features are loaded in the DataFrame **X** and your target is loaded in **y**.\n"
   ]
  },
  {
   "cell_type": "code",
   "execution_count": 2,
   "id": "521e4883",
   "metadata": {
    "execution": {
     "iopub.execute_input": "2023-12-21T04:30:06.155843Z",
     "iopub.status.busy": "2023-12-21T04:30:06.155402Z",
     "iopub.status.idle": "2023-12-21T04:30:06.175006Z",
     "shell.execute_reply": "2023-12-21T04:30:06.173594Z"
    },
    "papermill": {
     "duration": 0.028832,
     "end_time": "2023-12-21T04:30:06.177555",
     "exception": false,
     "start_time": "2023-12-21T04:30:06.148723",
     "status": "completed"
    },
    "tags": []
   },
   "outputs": [
    {
     "data": {
      "application/javascript": [
       "parent.postMessage({\"jupyterEvent\": \"custom.exercise_interaction\", \"data\": {\"outcomeType\": 1, \"valueTowardsCompletion\": 0.25, \"interactionType\": 1, \"questionType\": 2, \"questionId\": \"1_SplitData\", \"learnToolsVersion\": \"0.3.4\", \"failureMessage\": \"\", \"exceptionClass\": \"\", \"trace\": \"\"}}, \"*\")"
      ],
      "text/plain": [
       "<IPython.core.display.Javascript object>"
      ]
     },
     "metadata": {},
     "output_type": "display_data"
    },
    {
     "data": {
      "text/markdown": [
       "<span style=\"color:#33cc33\">Correct</span>"
      ],
      "text/plain": [
       "Correct"
      ]
     },
     "metadata": {},
     "output_type": "display_data"
    }
   ],
   "source": [
    "# Import the train_test_split function and uncomment\n",
    "from sklearn.model_selection import train_test_split\n",
    "\n",
    "# fill in and uncomment\n",
    "train_X, val_X, train_y, val_y = train_test_split(X,y,random_state=1)\n",
    "\n",
    "# Check your answer\n",
    "step_1.check()"
   ]
  },
  {
   "cell_type": "code",
   "execution_count": 3,
   "id": "d082a7a6",
   "metadata": {
    "execution": {
     "iopub.execute_input": "2023-12-21T04:30:06.190404Z",
     "iopub.status.busy": "2023-12-21T04:30:06.189966Z",
     "iopub.status.idle": "2023-12-21T04:30:06.195503Z",
     "shell.execute_reply": "2023-12-21T04:30:06.194161Z"
    },
    "papermill": {
     "duration": 0.015494,
     "end_time": "2023-12-21T04:30:06.198092",
     "exception": false,
     "start_time": "2023-12-21T04:30:06.182598",
     "status": "completed"
    },
    "tags": []
   },
   "outputs": [],
   "source": [
    "# The lines below will show you a hint or the solution.\n",
    "# step_1.hint() \n",
    "# step_1.solution()\n"
   ]
  },
  {
   "cell_type": "markdown",
   "id": "c8df73b6",
   "metadata": {
    "papermill": {
     "duration": 0.004714,
     "end_time": "2023-12-21T04:30:06.207910",
     "exception": false,
     "start_time": "2023-12-21T04:30:06.203196",
     "status": "completed"
    },
    "tags": []
   },
   "source": [
    "## Step 2: Specify and Fit the Model\n",
    "\n",
    "Create a `DecisionTreeRegressor` model and fit it to the relevant data.\n",
    "Set `random_state` to 1 again when creating the model."
   ]
  },
  {
   "cell_type": "code",
   "execution_count": 4,
   "id": "6db89b7c",
   "metadata": {
    "execution": {
     "iopub.execute_input": "2023-12-21T04:30:06.220696Z",
     "iopub.status.busy": "2023-12-21T04:30:06.220283Z",
     "iopub.status.idle": "2023-12-21T04:30:06.249207Z",
     "shell.execute_reply": "2023-12-21T04:30:06.248413Z"
    },
    "papermill": {
     "duration": 0.038094,
     "end_time": "2023-12-21T04:30:06.251656",
     "exception": false,
     "start_time": "2023-12-21T04:30:06.213562",
     "status": "completed"
    },
    "tags": []
   },
   "outputs": [
    {
     "name": "stdout",
     "output_type": "stream",
     "text": [
      "[186500. 184000. 130000.  92000. 164500. 220000. 335000. 144152. 215000.\n",
      " 262000.]\n",
      "[186500. 184000. 130000.  92000. 164500. 220000. 335000. 144152. 215000.\n",
      " 262000.]\n"
     ]
    },
    {
     "data": {
      "application/javascript": [
       "parent.postMessage({\"jupyterEvent\": \"custom.exercise_interaction\", \"data\": {\"outcomeType\": 1, \"valueTowardsCompletion\": 0.25, \"interactionType\": 1, \"questionType\": 2, \"questionId\": \"2_FitModelWithTrain\", \"learnToolsVersion\": \"0.3.4\", \"failureMessage\": \"\", \"exceptionClass\": \"\", \"trace\": \"\"}}, \"*\")"
      ],
      "text/plain": [
       "<IPython.core.display.Javascript object>"
      ]
     },
     "metadata": {},
     "output_type": "display_data"
    },
    {
     "data": {
      "text/markdown": [
       "<span style=\"color:#33cc33\">Correct</span>"
      ],
      "text/plain": [
       "Correct"
      ]
     },
     "metadata": {},
     "output_type": "display_data"
    }
   ],
   "source": [
    "# You imported DecisionTreeRegressor in your last exercise\n",
    "# and that code has been copied to the setup code above. So, no need to\n",
    "# import it again\n",
    "\n",
    "# Specify the model\n",
    "iowa_model = DecisionTreeRegressor(random_state=1)\n",
    "\n",
    "# Fit iowa_model with the training data.\n",
    "iowa_model.fit(train_X,train_y)\n",
    "\n",
    "# Check your answer\n",
    "step_2.check()"
   ]
  },
  {
   "cell_type": "code",
   "execution_count": 5,
   "id": "34b3ad3b",
   "metadata": {
    "execution": {
     "iopub.execute_input": "2023-12-21T04:30:06.265021Z",
     "iopub.status.busy": "2023-12-21T04:30:06.264655Z",
     "iopub.status.idle": "2023-12-21T04:30:06.269858Z",
     "shell.execute_reply": "2023-12-21T04:30:06.268680Z"
    },
    "papermill": {
     "duration": 0.016513,
     "end_time": "2023-12-21T04:30:06.273378",
     "exception": false,
     "start_time": "2023-12-21T04:30:06.256865",
     "status": "completed"
    },
    "tags": []
   },
   "outputs": [],
   "source": [
    "# step_2.hint()\n",
    "# step_2.solution()"
   ]
  },
  {
   "cell_type": "markdown",
   "id": "aef28f8c",
   "metadata": {
    "papermill": {
     "duration": 0.00498,
     "end_time": "2023-12-21T04:30:06.283794",
     "exception": false,
     "start_time": "2023-12-21T04:30:06.278814",
     "status": "completed"
    },
    "tags": []
   },
   "source": [
    "## Step 3: Make Predictions with Validation data\n"
   ]
  },
  {
   "cell_type": "code",
   "execution_count": 6,
   "id": "0f83cdc6",
   "metadata": {
    "execution": {
     "iopub.execute_input": "2023-12-21T04:30:06.297947Z",
     "iopub.status.busy": "2023-12-21T04:30:06.297550Z",
     "iopub.status.idle": "2023-12-21T04:30:06.312783Z",
     "shell.execute_reply": "2023-12-21T04:30:06.311538Z"
    },
    "papermill": {
     "duration": 0.026799,
     "end_time": "2023-12-21T04:30:06.316197",
     "exception": false,
     "start_time": "2023-12-21T04:30:06.289398",
     "status": "completed"
    },
    "tags": []
   },
   "outputs": [
    {
     "data": {
      "application/javascript": [
       "parent.postMessage({\"jupyterEvent\": \"custom.exercise_interaction\", \"data\": {\"outcomeType\": 1, \"valueTowardsCompletion\": 0.25, \"interactionType\": 1, \"questionType\": 2, \"questionId\": \"3_ValPreds\", \"learnToolsVersion\": \"0.3.4\", \"failureMessage\": \"\", \"exceptionClass\": \"\", \"trace\": \"\"}}, \"*\")"
      ],
      "text/plain": [
       "<IPython.core.display.Javascript object>"
      ]
     },
     "metadata": {},
     "output_type": "display_data"
    },
    {
     "data": {
      "text/markdown": [
       "<span style=\"color:#33cc33\">Correct</span>"
      ],
      "text/plain": [
       "Correct"
      ]
     },
     "metadata": {},
     "output_type": "display_data"
    }
   ],
   "source": [
    "# Predict with all validation observations\n",
    "val_predictions = iowa_model.predict(val_X)\n",
    "\n",
    "# Check your answer\n",
    "step_3.check()"
   ]
  },
  {
   "cell_type": "code",
   "execution_count": 7,
   "id": "781a6746",
   "metadata": {
    "execution": {
     "iopub.execute_input": "2023-12-21T04:30:06.330964Z",
     "iopub.status.busy": "2023-12-21T04:30:06.330532Z",
     "iopub.status.idle": "2023-12-21T04:30:06.335708Z",
     "shell.execute_reply": "2023-12-21T04:30:06.334646Z"
    },
    "papermill": {
     "duration": 0.015611,
     "end_time": "2023-12-21T04:30:06.337983",
     "exception": false,
     "start_time": "2023-12-21T04:30:06.322372",
     "status": "completed"
    },
    "tags": []
   },
   "outputs": [],
   "source": [
    "# step_3.hint()\n",
    "# step_3.solution()"
   ]
  },
  {
   "cell_type": "markdown",
   "id": "77e3b5a1",
   "metadata": {
    "papermill": {
     "duration": 0.006589,
     "end_time": "2023-12-21T04:30:06.350694",
     "exception": false,
     "start_time": "2023-12-21T04:30:06.344105",
     "status": "completed"
    },
    "tags": []
   },
   "source": [
    "Inspect your predictions and actual values from validation data."
   ]
  },
  {
   "cell_type": "code",
   "execution_count": 8,
   "id": "786b23dc",
   "metadata": {
    "execution": {
     "iopub.execute_input": "2023-12-21T04:30:06.363551Z",
     "iopub.status.busy": "2023-12-21T04:30:06.363089Z",
     "iopub.status.idle": "2023-12-21T04:30:06.373359Z",
     "shell.execute_reply": "2023-12-21T04:30:06.371873Z"
    },
    "papermill": {
     "duration": 0.019539,
     "end_time": "2023-12-21T04:30:06.375857",
     "exception": false,
     "start_time": "2023-12-21T04:30:06.356318",
     "status": "completed"
    },
    "tags": []
   },
   "outputs": [
    {
     "name": "stdout",
     "output_type": "stream",
     "text": [
      "[186500. 184000. 130000.  92000. 164500.] \n",
      "\n",
      "[208500, 181500, 223500, 140000, 250000]\n"
     ]
    }
   ],
   "source": [
    "# print the top few validation predictions\n",
    "print(iowa_model.predict(val_X.head()),\"\\n\")\n",
    "# print the top few actual prices from validation data\n",
    "print(y.head().tolist())"
   ]
  },
  {
   "cell_type": "markdown",
   "id": "7bed00d4",
   "metadata": {
    "papermill": {
     "duration": 0.00587,
     "end_time": "2023-12-21T04:30:06.387583",
     "exception": false,
     "start_time": "2023-12-21T04:30:06.381713",
     "status": "completed"
    },
    "tags": []
   },
   "source": [
    "What do you notice that is different from what you saw with in-sample predictions (which are printed after the top code cell in this page).\n",
    "\n",
    "Do you remember why validation predictions differ from in-sample (or training) predictions? This is an important idea from the last lesson.\n",
    "\n",
    "## Step 4: Calculate the Mean Absolute Error in Validation Data\n"
   ]
  },
  {
   "cell_type": "code",
   "execution_count": 9,
   "id": "5db4a8b7",
   "metadata": {
    "execution": {
     "iopub.execute_input": "2023-12-21T04:30:06.400454Z",
     "iopub.status.busy": "2023-12-21T04:30:06.400009Z",
     "iopub.status.idle": "2023-12-21T04:30:06.412827Z",
     "shell.execute_reply": "2023-12-21T04:30:06.411303Z"
    },
    "papermill": {
     "duration": 0.021949,
     "end_time": "2023-12-21T04:30:06.415101",
     "exception": false,
     "start_time": "2023-12-21T04:30:06.393152",
     "status": "completed"
    },
    "tags": []
   },
   "outputs": [
    {
     "name": "stdout",
     "output_type": "stream",
     "text": [
      "29652.931506849316\n"
     ]
    },
    {
     "data": {
      "application/javascript": [
       "parent.postMessage({\"jupyterEvent\": \"custom.exercise_interaction\", \"data\": {\"outcomeType\": 1, \"valueTowardsCompletion\": 0.25, \"interactionType\": 1, \"questionType\": 1, \"questionId\": \"4_MAE\", \"learnToolsVersion\": \"0.3.4\", \"failureMessage\": \"\", \"exceptionClass\": \"\", \"trace\": \"\"}}, \"*\")"
      ],
      "text/plain": [
       "<IPython.core.display.Javascript object>"
      ]
     },
     "metadata": {},
     "output_type": "display_data"
    },
    {
     "data": {
      "text/markdown": [
       "<span style=\"color:#33cc33\">Correct</span>"
      ],
      "text/plain": [
       "Correct"
      ]
     },
     "metadata": {},
     "output_type": "display_data"
    }
   ],
   "source": [
    "from sklearn.metrics import mean_absolute_error as MAE\n",
    "val_mae = MAE(val_y,val_predictions)\n",
    "\n",
    "# uncomment following line to see the validation_mae\n",
    "print(val_mae)\n",
    "\n",
    "# Check your answer\n",
    "step_4.check()"
   ]
  },
  {
   "cell_type": "code",
   "execution_count": 10,
   "id": "0fef46ae",
   "metadata": {
    "execution": {
     "iopub.execute_input": "2023-12-21T04:30:06.430311Z",
     "iopub.status.busy": "2023-12-21T04:30:06.429340Z",
     "iopub.status.idle": "2023-12-21T04:30:06.435130Z",
     "shell.execute_reply": "2023-12-21T04:30:06.433775Z"
    },
    "papermill": {
     "duration": 0.017175,
     "end_time": "2023-12-21T04:30:06.438203",
     "exception": false,
     "start_time": "2023-12-21T04:30:06.421028",
     "status": "completed"
    },
    "tags": []
   },
   "outputs": [],
   "source": [
    "# step_4.hint()\n",
    "#step_4.solution()"
   ]
  },
  {
   "cell_type": "markdown",
   "id": "6c101c01",
   "metadata": {
    "papermill": {
     "duration": 0.005663,
     "end_time": "2023-12-21T04:30:06.450176",
     "exception": false,
     "start_time": "2023-12-21T04:30:06.444513",
     "status": "completed"
    },
    "tags": []
   },
   "source": [
    "Is that MAE good?  There isn't a general rule for what values are good that applies across applications. But you'll see how to use (and improve) this number in the next step.\n",
    "\n",
    "# Keep Going\n",
    "\n",
    "You are ready for **[Underfitting and Overfitting](https://www.kaggle.com/dansbecker/underfitting-and-overfitting).**\n"
   ]
  },
  {
   "cell_type": "markdown",
   "id": "bfa4580e",
   "metadata": {
    "papermill": {
     "duration": 0.005574,
     "end_time": "2023-12-21T04:30:06.461598",
     "exception": false,
     "start_time": "2023-12-21T04:30:06.456024",
     "status": "completed"
    },
    "tags": []
   },
   "source": [
    "---\n",
    "\n",
    "\n",
    "\n",
    "\n",
    "*Have questions or comments? Visit the [course discussion forum](https://www.kaggle.com/learn/intro-to-machine-learning/discussion) to chat with other learners.*"
   ]
  }
 ],
 "metadata": {
  "kaggle": {
   "accelerator": "none",
   "dataSources": [
    {
     "databundleVersionId": 111096,
     "sourceId": 10211,
     "sourceType": "competition"
    },
    {
     "datasetId": 11167,
     "sourceId": 15520,
     "sourceType": "datasetVersion"
    },
    {
     "datasetId": 2709,
     "sourceId": 38454,
     "sourceType": "datasetVersion"
    }
   ],
   "isGpuEnabled": false,
   "isInternetEnabled": false,
   "language": "python",
   "sourceType": "notebook"
  },
  "kernelspec": {
   "display_name": "Python 3",
   "language": "python",
   "name": "python3"
  },
  "language_info": {
   "codemirror_mode": {
    "name": "ipython",
    "version": 3
   },
   "file_extension": ".py",
   "mimetype": "text/x-python",
   "name": "python",
   "nbconvert_exporter": "python",
   "pygments_lexer": "ipython3",
   "version": "3.10.12"
  },
  "papermill": {
   "default_parameters": {},
   "duration": 6.942668,
   "end_time": "2023-12-21T04:30:07.191079",
   "environment_variables": {},
   "exception": null,
   "input_path": "__notebook__.ipynb",
   "output_path": "__notebook__.ipynb",
   "parameters": {},
   "start_time": "2023-12-21T04:30:00.248411",
   "version": "2.4.0"
  }
 },
 "nbformat": 4,
 "nbformat_minor": 5
}

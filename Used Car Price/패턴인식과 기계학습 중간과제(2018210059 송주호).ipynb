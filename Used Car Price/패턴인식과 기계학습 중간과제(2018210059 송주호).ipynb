{
 "cells": [
  {
   "cell_type": "code",
   "execution_count": 2,
   "metadata": {},
   "outputs": [],
   "source": [
    "import numpy as np\n",
    "import pandas as pd\n",
    "import pandas as pd\n",
    "from sklearn.ensemble import RandomForestRegressor\n",
    "from sklearn.model_selection import train_test_split\n",
    "from sklearn.metrics import mean_squared_error, r2_score\n",
    "import matplotlib.pyplot as plt\n",
    "import seaborn as sns\n",
    "\n",
    "#read csv, csv파일 읽기\n",
    "url=\"https://raw.githubusercontent.com/SongJuHo-0410/AI_Engineering/master/car%20data.csv\"\n",
    "df=pd.read_csv(url)"
   ]
  },
  {
   "cell_type": "code",
   "execution_count": 3,
   "metadata": {},
   "outputs": [
    {
     "name": "stdout",
     "output_type": "stream",
     "text": [
      "Malgun Gothic\n"
     ]
    }
   ],
   "source": [
    "import matplotlib as mpl\n",
    "import matplotlib.pyplot as plt\n",
    "import matplotlib.font_manager as fm\n",
    "\n",
    "# fname 옵션을 사용하는 방법\n",
    "path = 'C:\\\\WINDOWS\\\\Fonts\\\\malgun.ttf'\n",
    "font_name = fm.FontProperties(fname=path, size=50).get_name()\n",
    "print(font_name)\n",
    "plt.rc('font', family=font_name)"
   ]
  },
  {
   "attachments": {},
   "cell_type": "markdown",
   "metadata": {},
   "source": [
    "- **과제 수행 가이드:**\n",
    "\n",
    " \n",
    "\n",
    "  - 비즈니스 문제 정의와 분석 목적 도출 과정 제시\n",
    "\n",
    "  - 해당 데이터에 대한 도메인 지식 설명\n",
    "\n",
    "  - 데이터의 통계적 측정과 분석\n",
    "\n",
    "  - 데이터 시각화\n",
    "\n",
    "  - 예측 모델 구축 (제시한 데이터는 일반적으로 \"Selling_Price\" 예측 모델이지만, 다른 목적의 모델도 가능)\n",
    "\n",
    "  - 모델 해석 및 결론"
   ]
  },
  {
   "cell_type": "code",
   "execution_count": 250,
   "metadata": {},
   "outputs": [
    {
     "data": {
      "text/html": [
       "<div>\n",
       "<style scoped>\n",
       "    .dataframe tbody tr th:only-of-type {\n",
       "        vertical-align: middle;\n",
       "    }\n",
       "\n",
       "    .dataframe tbody tr th {\n",
       "        vertical-align: top;\n",
       "    }\n",
       "\n",
       "    .dataframe thead th {\n",
       "        text-align: right;\n",
       "    }\n",
       "</style>\n",
       "<table border=\"1\" class=\"dataframe\">\n",
       "  <thead>\n",
       "    <tr style=\"text-align: right;\">\n",
       "      <th></th>\n",
       "      <th>Car_Name</th>\n",
       "      <th>Year</th>\n",
       "      <th>Selling_Price</th>\n",
       "      <th>Present_Price</th>\n",
       "      <th>Driven_kms</th>\n",
       "      <th>Fuel_Type</th>\n",
       "      <th>Selling_type</th>\n",
       "      <th>Transmission</th>\n",
       "      <th>Owner</th>\n",
       "    </tr>\n",
       "  </thead>\n",
       "  <tbody>\n",
       "    <tr>\n",
       "      <th>0</th>\n",
       "      <td>ritz</td>\n",
       "      <td>2014</td>\n",
       "      <td>3.35</td>\n",
       "      <td>5.59</td>\n",
       "      <td>27000</td>\n",
       "      <td>Petrol</td>\n",
       "      <td>Dealer</td>\n",
       "      <td>Manual</td>\n",
       "      <td>0</td>\n",
       "    </tr>\n",
       "    <tr>\n",
       "      <th>1</th>\n",
       "      <td>sx4</td>\n",
       "      <td>2013</td>\n",
       "      <td>4.75</td>\n",
       "      <td>9.54</td>\n",
       "      <td>43000</td>\n",
       "      <td>Diesel</td>\n",
       "      <td>Dealer</td>\n",
       "      <td>Manual</td>\n",
       "      <td>0</td>\n",
       "    </tr>\n",
       "    <tr>\n",
       "      <th>2</th>\n",
       "      <td>ciaz</td>\n",
       "      <td>2017</td>\n",
       "      <td>7.25</td>\n",
       "      <td>9.85</td>\n",
       "      <td>6900</td>\n",
       "      <td>Petrol</td>\n",
       "      <td>Dealer</td>\n",
       "      <td>Manual</td>\n",
       "      <td>0</td>\n",
       "    </tr>\n",
       "    <tr>\n",
       "      <th>3</th>\n",
       "      <td>wagon r</td>\n",
       "      <td>2011</td>\n",
       "      <td>2.85</td>\n",
       "      <td>4.15</td>\n",
       "      <td>5200</td>\n",
       "      <td>Petrol</td>\n",
       "      <td>Dealer</td>\n",
       "      <td>Manual</td>\n",
       "      <td>0</td>\n",
       "    </tr>\n",
       "    <tr>\n",
       "      <th>4</th>\n",
       "      <td>swift</td>\n",
       "      <td>2014</td>\n",
       "      <td>4.60</td>\n",
       "      <td>6.87</td>\n",
       "      <td>42450</td>\n",
       "      <td>Diesel</td>\n",
       "      <td>Dealer</td>\n",
       "      <td>Manual</td>\n",
       "      <td>0</td>\n",
       "    </tr>\n",
       "  </tbody>\n",
       "</table>\n",
       "</div>"
      ],
      "text/plain": [
       "  Car_Name  Year  Selling_Price  Present_Price  Driven_kms Fuel_Type  \\\n",
       "0     ritz  2014           3.35           5.59       27000    Petrol   \n",
       "1      sx4  2013           4.75           9.54       43000    Diesel   \n",
       "2     ciaz  2017           7.25           9.85        6900    Petrol   \n",
       "3  wagon r  2011           2.85           4.15        5200    Petrol   \n",
       "4    swift  2014           4.60           6.87       42450    Diesel   \n",
       "\n",
       "  Selling_type Transmission  Owner  \n",
       "0       Dealer       Manual      0  \n",
       "1       Dealer       Manual      0  \n",
       "2       Dealer       Manual      0  \n",
       "3       Dealer       Manual      0  \n",
       "4       Dealer       Manual      0  "
      ]
     },
     "execution_count": 250,
     "metadata": {},
     "output_type": "execute_result"
    }
   ],
   "source": [
    "#데이터프레임의 처음 5개 행 확인\n",
    "df.head()"
   ]
  },
  {
   "attachments": {},
   "cell_type": "markdown",
   "metadata": {},
   "source": [
    "\n",
    "<summary><h3>비즈니스 문제 정의와 분석 목적 도출 과정 제시</summary>\n",
    "<details>\n",
    "\n",
    "- 비즈니스 문제 정의 : 중고차의 판매 가격을 예측하는 모델을 만들고자 합니다. 중고차의 가치를 정확히 파악하고 적절한 가격으로 판매되는지 파악하는데 도움을 줄 수 있습니다.\n",
    "\n",
    "- 분석 목적 도출 과정:  \n",
    "    \n",
    "    1. 데이터 이해와 탐색:  \n",
    "        - 데이터프레임을 살펴보고 각 열의 의미와 형식을 파악합니다.  \n",
    "        - 열에 대한 설명 및 가능한 값들에 대한 추가 정보가 있는지 확인합니다.      \n",
    "            \n",
    "    2. 변수 선택 및 데이터 전처리:\n",
    "\n",
    "        - 예측 모델에 사용할 변수를 선택합니다. 예를 들어, \"Year\", \"Present_Price\", \"Driven_kms\", \"Fuel_Type\", \"Transmission\" 등이 중요한 변수로 선택될 수 있습니다.\n",
    "        - 필요한 경우, 결측치 처리, 이상치 탐지 및 처리, 범주형 변수의 인코딩 등의 데이터 전처리 작업을 수행합니다.\n",
    "          \n",
    "    3. 탐색적 데이터 분석:\n",
    "        - 변수 간의 상관 관계, 분포, 이상치, 중복 등을 확인하여 데이터의 특성을 이해합니다.\n",
    "        - 특정 변수 또는 변수 조합이 중고차 가격에 미치는 영향을 탐색합니다.\n",
    "        \n",
    "    4. 모델 개발과 평가:\n",
    "        - 예측 모델을 선택하고 훈련 및 평가를 수행합니다. 랜덤 포레스트 모델을 하여 진행합니다.\n",
    "        - 예측 성능 지표를 사용하여 모델의 성능을 평가하고 필요한 경우 모델을 튜닝합니다.\n",
    "        \n",
    "    5. 결과 해석 및 활용:\n",
    "        - 개발한 예측 모델을 활용하여 중고차의 판매 가격을 예측할 수 있습니다.\n",
    "        - 중요한 변수와 그 영향력을 이해하고 비즈니스적으로 해석할 수 있도록 결과를 해석합니다.\n",
    "        - 이를 통해 판매자는 적정 가격을 제시하고 구매자는 신뢰성 있는 거래를 진행할 수 있습니다.\n",
    "\n",
    "</details>\n"
   ]
  },
  {
   "attachments": {},
   "cell_type": "markdown",
   "metadata": {},
   "source": [
    "<h3>해당 데이터에 대한 도메인 지식 설명</h3>\n",
    "\n",
    "<details>\n",
    "\n",
    "- Car_Name : 모델 명\n",
    "- Year : 연식\n",
    "- Selling_Price : 판매가\n",
    "- Present_Price : 출고가\n",
    "- Driven_kms : 주행 거리\n",
    "- Fuel_Type : 연료\n",
    "- Selling_type : 판매 형태\n",
    "- Transmission : 변속기\n",
    "- Owner : 소유자 변경(횟수)\n",
    "\n",
    "해당 데이터를 제공하는 사이트에서 이름은 Car Price Prediction(used cars)로 차량과 관련된 데이터이며 모델 명, 연식, 판매가, 출고가, 주행 거리, 연료, 판매 형태, 변속기, 소유자 변경(횟수)로 총 9개의 변수가 있습니다. 또한 태그에 India를 통해 해당 데이터는 인도의 중고차 판매와 관련된 데이터라고 파악할 수 있습니다. 따라서 돈 단위도 인도의 루피라고 파악하였습니다.\n",
    "\n",
    "</details>"
   ]
  },
  {
   "attachments": {},
   "cell_type": "markdown",
   "metadata": {},
   "source": [
    "<h3>데이터의 통계적 측정과 분석"
   ]
  },
  {
   "cell_type": "code",
   "execution_count": 251,
   "metadata": {},
   "outputs": [
    {
     "data": {
      "text/html": [
       "<div>\n",
       "<style scoped>\n",
       "    .dataframe tbody tr th:only-of-type {\n",
       "        vertical-align: middle;\n",
       "    }\n",
       "\n",
       "    .dataframe tbody tr th {\n",
       "        vertical-align: top;\n",
       "    }\n",
       "\n",
       "    .dataframe thead th {\n",
       "        text-align: right;\n",
       "    }\n",
       "</style>\n",
       "<table border=\"1\" class=\"dataframe\">\n",
       "  <thead>\n",
       "    <tr style=\"text-align: right;\">\n",
       "      <th></th>\n",
       "      <th>Car_Name</th>\n",
       "      <th>Year</th>\n",
       "      <th>Selling_Price</th>\n",
       "      <th>Present_Price</th>\n",
       "      <th>Driven_kms</th>\n",
       "      <th>Fuel_Type</th>\n",
       "      <th>Selling_type</th>\n",
       "      <th>Transmission</th>\n",
       "      <th>Owner</th>\n",
       "    </tr>\n",
       "  </thead>\n",
       "  <tbody>\n",
       "    <tr>\n",
       "      <th>0</th>\n",
       "      <td>ritz</td>\n",
       "      <td>2014</td>\n",
       "      <td>3.35</td>\n",
       "      <td>5.59</td>\n",
       "      <td>27000</td>\n",
       "      <td>Petrol</td>\n",
       "      <td>Dealer</td>\n",
       "      <td>Manual</td>\n",
       "      <td>0</td>\n",
       "    </tr>\n",
       "    <tr>\n",
       "      <th>1</th>\n",
       "      <td>sx4</td>\n",
       "      <td>2013</td>\n",
       "      <td>4.75</td>\n",
       "      <td>9.54</td>\n",
       "      <td>43000</td>\n",
       "      <td>Diesel</td>\n",
       "      <td>Dealer</td>\n",
       "      <td>Manual</td>\n",
       "      <td>0</td>\n",
       "    </tr>\n",
       "    <tr>\n",
       "      <th>2</th>\n",
       "      <td>ciaz</td>\n",
       "      <td>2017</td>\n",
       "      <td>7.25</td>\n",
       "      <td>9.85</td>\n",
       "      <td>6900</td>\n",
       "      <td>Petrol</td>\n",
       "      <td>Dealer</td>\n",
       "      <td>Manual</td>\n",
       "      <td>0</td>\n",
       "    </tr>\n",
       "    <tr>\n",
       "      <th>3</th>\n",
       "      <td>wagon r</td>\n",
       "      <td>2011</td>\n",
       "      <td>2.85</td>\n",
       "      <td>4.15</td>\n",
       "      <td>5200</td>\n",
       "      <td>Petrol</td>\n",
       "      <td>Dealer</td>\n",
       "      <td>Manual</td>\n",
       "      <td>0</td>\n",
       "    </tr>\n",
       "    <tr>\n",
       "      <th>4</th>\n",
       "      <td>swift</td>\n",
       "      <td>2014</td>\n",
       "      <td>4.60</td>\n",
       "      <td>6.87</td>\n",
       "      <td>42450</td>\n",
       "      <td>Diesel</td>\n",
       "      <td>Dealer</td>\n",
       "      <td>Manual</td>\n",
       "      <td>0</td>\n",
       "    </tr>\n",
       "  </tbody>\n",
       "</table>\n",
       "</div>"
      ],
      "text/plain": [
       "  Car_Name  Year  Selling_Price  Present_Price  Driven_kms Fuel_Type  \\\n",
       "0     ritz  2014           3.35           5.59       27000    Petrol   \n",
       "1      sx4  2013           4.75           9.54       43000    Diesel   \n",
       "2     ciaz  2017           7.25           9.85        6900    Petrol   \n",
       "3  wagon r  2011           2.85           4.15        5200    Petrol   \n",
       "4    swift  2014           4.60           6.87       42450    Diesel   \n",
       "\n",
       "  Selling_type Transmission  Owner  \n",
       "0       Dealer       Manual      0  \n",
       "1       Dealer       Manual      0  \n",
       "2       Dealer       Manual      0  \n",
       "3       Dealer       Manual      0  \n",
       "4       Dealer       Manual      0  "
      ]
     },
     "execution_count": 251,
     "metadata": {},
     "output_type": "execute_result"
    }
   ],
   "source": [
    "#데이터프레임의 처음 5개 행 확인\n",
    "df.head()"
   ]
  },
  {
   "cell_type": "code",
   "execution_count": 252,
   "metadata": {},
   "outputs": [
    {
     "data": {
      "text/plain": [
       "(301, 9)"
      ]
     },
     "execution_count": 252,
     "metadata": {},
     "output_type": "execute_result"
    }
   ],
   "source": [
    "#데이터프레임의 행과 열의 개수 확인\n",
    "df.shape"
   ]
  },
  {
   "cell_type": "code",
   "execution_count": 253,
   "metadata": {},
   "outputs": [
    {
     "name": "stdout",
     "output_type": "stream",
     "text": [
      "Car_Name         0\n",
      "Year             0\n",
      "Selling_Price    0\n",
      "Present_Price    0\n",
      "Driven_kms       0\n",
      "Fuel_Type        0\n",
      "Selling_type     0\n",
      "Transmission     0\n",
      "Owner            0\n",
      "dtype: int64\n"
     ]
    }
   ],
   "source": [
    "# 데이터프레임의 결측치 확인\n",
    "print(df.isnull().sum())"
   ]
  },
  {
   "cell_type": "code",
   "execution_count": 254,
   "metadata": {},
   "outputs": [
    {
     "name": "stdout",
     "output_type": "stream",
     "text": [
      "<class 'pandas.core.frame.DataFrame'>\n",
      "RangeIndex: 301 entries, 0 to 300\n",
      "Data columns (total 9 columns):\n",
      " #   Column         Non-Null Count  Dtype  \n",
      "---  ------         --------------  -----  \n",
      " 0   Car_Name       301 non-null    object \n",
      " 1   Year           301 non-null    int64  \n",
      " 2   Selling_Price  301 non-null    float64\n",
      " 3   Present_Price  301 non-null    float64\n",
      " 4   Driven_kms     301 non-null    int64  \n",
      " 5   Fuel_Type      301 non-null    object \n",
      " 6   Selling_type   301 non-null    object \n",
      " 7   Transmission   301 non-null    object \n",
      " 8   Owner          301 non-null    int64  \n",
      "dtypes: float64(2), int64(3), object(4)\n",
      "memory usage: 21.3+ KB\n",
      "None\n"
     ]
    }
   ],
   "source": [
    "# 데이터프레임 정보 출력\n",
    "print(df.info())"
   ]
  },
  {
   "cell_type": "code",
   "execution_count": 255,
   "metadata": {},
   "outputs": [
    {
     "name": "stdout",
     "output_type": "stream",
     "text": [
      "              Year  Selling_Price  Present_Price     Driven_kms       Owner\n",
      "count   301.000000     301.000000     301.000000     301.000000  301.000000\n",
      "mean   2013.627907       4.661296       7.628472   36947.205980    0.043189\n",
      "std       2.891554       5.082812       8.642584   38886.883882    0.247915\n",
      "min    2003.000000       0.100000       0.320000     500.000000    0.000000\n",
      "25%    2012.000000       0.900000       1.200000   15000.000000    0.000000\n",
      "50%    2014.000000       3.600000       6.400000   32000.000000    0.000000\n",
      "75%    2016.000000       6.000000       9.900000   48767.000000    0.000000\n",
      "max    2018.000000      35.000000      92.600000  500000.000000    3.000000\n"
     ]
    }
   ],
   "source": [
    "# 데이터프레임 요약 통계 출력\n",
    "print(df.describe())"
   ]
  },
  {
   "cell_type": "code",
   "execution_count": 256,
   "metadata": {},
   "outputs": [
    {
     "name": "stdout",
     "output_type": "stream",
     "text": [
      "CNG         2\n",
      "Diesel     60\n",
      "Petrol    239\n",
      "Name: Fuel_Type, dtype: int64\n"
     ]
    }
   ],
   "source": [
    "#연료별 데이터 종류의 개수 파악\n",
    "print(df.Fuel_Type.value_counts().sort_index())"
   ]
  },
  {
   "attachments": {},
   "cell_type": "markdown",
   "metadata": {},
   "source": [
    "- CNG(Compressed Natural Gas) : 압축천연가스\n",
    "- diesel : 경유\n",
    "- petrol : 휘발유\n",
    "\n",
    "연료는 3가지 종류가 있으며 휘발유가 239개로 가장 많은 비율을 차지"
   ]
  },
  {
   "cell_type": "code",
   "execution_count": 257,
   "metadata": {},
   "outputs": [
    {
     "name": "stdout",
     "output_type": "stream",
     "text": [
      "Dealer        195\n",
      "Individual    106\n",
      "Name: Selling_type, dtype: int64\n"
     ]
    }
   ],
   "source": [
    "#판매 형태별 데이터 종류의 개수 파악\n",
    "print(df.Selling_type.value_counts().sort_index())"
   ]
  },
  {
   "attachments": {},
   "cell_type": "markdown",
   "metadata": {},
   "source": [
    "- Dealer : 판매원\n",
    "- Individual : 개인\n",
    "\n",
    "판매 형태는 판매원과 개인이 있으며 다수가 판매원을 통해 거래"
   ]
  },
  {
   "cell_type": "code",
   "execution_count": 258,
   "metadata": {},
   "outputs": [
    {
     "name": "stdout",
     "output_type": "stream",
     "text": [
      "Automatic     40\n",
      "Manual       261\n",
      "Name: Transmission, dtype: int64\n"
     ]
    }
   ],
   "source": [
    "#변속기별 데이터 종류의 개수 파악\n",
    "print(df.Transmission.value_counts().sort_index())"
   ]
  },
  {
   "attachments": {},
   "cell_type": "markdown",
   "metadata": {},
   "source": [
    "- Automatic : 자동\n",
    "- Manual : 수동\n",
    "\n",
    "변속기는 자동과 수동이 있으며 수동이 261개로 많은 비율을 차지"
   ]
  },
  {
   "cell_type": "code",
   "execution_count": 259,
   "metadata": {},
   "outputs": [
    {
     "name": "stdout",
     "output_type": "stream",
     "text": [
      "2003     2\n",
      "2004     1\n",
      "2005     4\n",
      "2006     4\n",
      "2007     2\n",
      "2008     7\n",
      "2009     6\n",
      "2010    15\n",
      "2011    19\n",
      "2012    23\n",
      "2013    33\n",
      "2014    38\n",
      "2015    61\n",
      "2016    50\n",
      "2017    35\n",
      "2018     1\n",
      "Name: Year, dtype: int64\n"
     ]
    }
   ],
   "source": [
    "#년도별 데이터 개수 파악\n",
    "print(df.Year.value_counts().sort_index())"
   ]
  },
  {
   "attachments": {},
   "cell_type": "markdown",
   "metadata": {},
   "source": [
    "년도별로 2015년식 차량이 가장 많은 비율을 차지"
   ]
  },
  {
   "cell_type": "code",
   "execution_count": 260,
   "metadata": {},
   "outputs": [
    {
     "name": "stdout",
     "output_type": "stream",
     "text": [
      "800                   1\n",
      "Activa 3g             2\n",
      "Activa 4g             1\n",
      "Bajaj  ct 100         1\n",
      "Bajaj Avenger 150     1\n",
      "                     ..\n",
      "sx4                   6\n",
      "verna                14\n",
      "vitara brezza         1\n",
      "wagon r               4\n",
      "xcent                 3\n",
      "Name: Car_Name, Length: 98, dtype: int64\n"
     ]
    }
   ],
   "source": [
    "print(df.Car_Name.value_counts().sort_index())"
   ]
  },
  {
   "attachments": {},
   "cell_type": "markdown",
   "metadata": {},
   "source": [
    "서로 다른 89개의 모델이 존재"
   ]
  },
  {
   "attachments": {},
   "cell_type": "markdown",
   "metadata": {},
   "source": [
    "<h3>예측 모델 구축</h3>\n",
    "\n",
    "- 예측 모델 : 랜덤 포레스트\n",
    "- 이유 : 데이터의 개수가 301개로 모델을 예측하는데 적은 데이터라 판단 따라서 랜덤 포레스트의 장점인 부트스트래핑과 랜덤한 속성 선택, 앙상블 방식을 통해 적은 데이터로도 다양한 훈련 데이터와 속성 조합을 활용하여 더욱 좋은 예측 모델을 만들 수 있을거라 기대"
   ]
  },
  {
   "cell_type": "code",
   "execution_count": 4,
   "metadata": {},
   "outputs": [
    {
     "data": {
      "text/html": [
       "<div>\n",
       "<style scoped>\n",
       "    .dataframe tbody tr th:only-of-type {\n",
       "        vertical-align: middle;\n",
       "    }\n",
       "\n",
       "    .dataframe tbody tr th {\n",
       "        vertical-align: top;\n",
       "    }\n",
       "\n",
       "    .dataframe thead th {\n",
       "        text-align: right;\n",
       "    }\n",
       "</style>\n",
       "<table border=\"1\" class=\"dataframe\">\n",
       "  <thead>\n",
       "    <tr style=\"text-align: right;\">\n",
       "      <th></th>\n",
       "      <th>Car_Name</th>\n",
       "      <th>Year</th>\n",
       "      <th>Selling_Price</th>\n",
       "      <th>Present_Price</th>\n",
       "      <th>Driven_kms</th>\n",
       "      <th>Fuel_Type</th>\n",
       "      <th>Selling_type</th>\n",
       "      <th>Transmission</th>\n",
       "      <th>Owner</th>\n",
       "    </tr>\n",
       "  </thead>\n",
       "  <tbody>\n",
       "    <tr>\n",
       "      <th>0</th>\n",
       "      <td>ritz</td>\n",
       "      <td>2014</td>\n",
       "      <td>3.35</td>\n",
       "      <td>5.59</td>\n",
       "      <td>27000</td>\n",
       "      <td>2</td>\n",
       "      <td>1</td>\n",
       "      <td>1</td>\n",
       "      <td>0</td>\n",
       "    </tr>\n",
       "    <tr>\n",
       "      <th>1</th>\n",
       "      <td>sx4</td>\n",
       "      <td>2013</td>\n",
       "      <td>4.75</td>\n",
       "      <td>9.54</td>\n",
       "      <td>43000</td>\n",
       "      <td>1</td>\n",
       "      <td>1</td>\n",
       "      <td>1</td>\n",
       "      <td>0</td>\n",
       "    </tr>\n",
       "    <tr>\n",
       "      <th>2</th>\n",
       "      <td>ciaz</td>\n",
       "      <td>2017</td>\n",
       "      <td>7.25</td>\n",
       "      <td>9.85</td>\n",
       "      <td>6900</td>\n",
       "      <td>2</td>\n",
       "      <td>1</td>\n",
       "      <td>1</td>\n",
       "      <td>0</td>\n",
       "    </tr>\n",
       "    <tr>\n",
       "      <th>3</th>\n",
       "      <td>wagon r</td>\n",
       "      <td>2011</td>\n",
       "      <td>2.85</td>\n",
       "      <td>4.15</td>\n",
       "      <td>5200</td>\n",
       "      <td>2</td>\n",
       "      <td>1</td>\n",
       "      <td>1</td>\n",
       "      <td>0</td>\n",
       "    </tr>\n",
       "    <tr>\n",
       "      <th>4</th>\n",
       "      <td>swift</td>\n",
       "      <td>2014</td>\n",
       "      <td>4.60</td>\n",
       "      <td>6.87</td>\n",
       "      <td>42450</td>\n",
       "      <td>1</td>\n",
       "      <td>1</td>\n",
       "      <td>1</td>\n",
       "      <td>0</td>\n",
       "    </tr>\n",
       "  </tbody>\n",
       "</table>\n",
       "</div>"
      ],
      "text/plain": [
       "  Car_Name  Year  Selling_Price  Present_Price  Driven_kms  Fuel_Type  \\\n",
       "0     ritz  2014           3.35           5.59       27000          2   \n",
       "1      sx4  2013           4.75           9.54       43000          1   \n",
       "2     ciaz  2017           7.25           9.85        6900          2   \n",
       "3  wagon r  2011           2.85           4.15        5200          2   \n",
       "4    swift  2014           4.60           6.87       42450          1   \n",
       "\n",
       "   Selling_type  Transmission  Owner  \n",
       "0             1             1      0  \n",
       "1             1             1      0  \n",
       "2             1             1      0  \n",
       "3             1             1      0  \n",
       "4             1             1      0  "
      ]
     },
     "execution_count": 4,
     "metadata": {},
     "output_type": "execute_result"
    }
   ],
   "source": [
    "#read csv, csv파일 읽기\n",
    "url=\"https://raw.githubusercontent.com/SongJuHo-0410/AI_Engineering/master/car%20data.csv\"\n",
    "df=pd.read_csv(url)\n",
    "\n",
    "#범주형 데이터를 수치형 데이터로 변환(데이터 수에 따라 오름차순으로 정렬)\n",
    "df.replace({'Fuel_Type':{'CNG':0,'Diesel':1,'Petrol':2}},inplace=True)\n",
    "df.replace({'Selling_type':{'Individual':0,'Dealer':1}},inplace=True)\n",
    "df.replace({'Transmission':{'Automatic':0,'Manual':1}},inplace=True)\n",
    "\n",
    "df.head()"
   ]
  },
  {
   "cell_type": "code",
   "execution_count": 5,
   "metadata": {},
   "outputs": [],
   "source": [
    "# 특성과 타깃 데이터로 분할\n",
    "X = df.drop(['Car_Name', 'Selling_Price'], axis=1) #모델 명을 수치형 변수로 변경하면 오버피팅, 정보손실 등 발생할 수 있어 제거\n",
    "y = df['Selling_Price'] #중고차 판매가를 예측하기 위해 판매가를 타깃으로 설정"
   ]
  },
  {
   "cell_type": "code",
   "execution_count": 6,
   "metadata": {},
   "outputs": [],
   "source": [
    "# 훈련 세트와 테스트 세트로 분할\n",
    "X_train, X_test, y_train, y_test = train_test_split(X, y, test_size=0.2, random_state=42)"
   ]
  },
  {
   "cell_type": "code",
   "execution_count": 7,
   "metadata": {},
   "outputs": [],
   "source": [
    "# 랜덤 포레스트 모델 생성\n",
    "rf_model = RandomForestRegressor(random_state=42)"
   ]
  },
  {
   "cell_type": "code",
   "execution_count": 8,
   "metadata": {},
   "outputs": [
    {
     "data": {
      "text/plain": [
       "RandomForestRegressor(random_state=42)"
      ]
     },
     "execution_count": 8,
     "metadata": {},
     "output_type": "execute_result"
    }
   ],
   "source": [
    "# 모델 훈련\n",
    "rf_model.fit(X_train, y_train)"
   ]
  },
  {
   "cell_type": "code",
   "execution_count": 9,
   "metadata": {},
   "outputs": [],
   "source": [
    "# 예측\n",
    "y_pred = rf_model.predict(X_test)"
   ]
  },
  {
   "cell_type": "code",
   "execution_count": 10,
   "metadata": {},
   "outputs": [
    {
     "name": "stdout",
     "output_type": "stream",
     "text": [
      "Mean Squared Error: 0.8547236608196712\n",
      "R-squared: 0.9628955080316364\n"
     ]
    }
   ],
   "source": [
    "# 평가: 평균 제곱 오차 계산\n",
    "mse = mean_squared_error(y_test, y_pred)\n",
    "print(\"Mean Squared Error:\", mse)\n",
    "\n",
    "# R-squared 값을 계산\n",
    "r2 = r2_score(y_test, y_pred)\n",
    "print(\"R-squared:\", r2)"
   ]
  },
  {
   "attachments": {},
   "cell_type": "markdown",
   "metadata": {},
   "source": [
    "랜덤 포레스트를 사용하여 8:2로 훈련셋과 테스트셋을 나누어 진행하였을 때 \n",
    "- Mean Squared Error: 0.8547236608196712\n",
    "- R-squared: 0.9628955080316364"
   ]
  },
  {
   "attachments": {},
   "cell_type": "markdown",
   "metadata": {},
   "source": [
    "<h3>데이터 시각화 및 모델 개선"
   ]
  },
  {
   "cell_type": "code",
   "execution_count": 11,
   "metadata": {},
   "outputs": [
    {
     "data": {
      "image/png": "[encoded data removed]",
      "text/plain": [
       "<Figure size 640x480 with 2 Axes>"
      ]
     },
     "metadata": {},
     "output_type": "display_data"
    },
    {
     "name": "stdout",
     "output_type": "stream",
     "text": [
      "최소 MSE: 0.7831374986059993, 해당하는 n_estimators: 42\n",
      "최대 R-squared: 0.9660031418818049, 해당하는 n_estimators: 42\n"
     ]
    }
   ],
   "source": [
    "# MSE 및 R-squared 값을 저장할 리스트\n",
    "mse_values = []\n",
    "r2_values = []\n",
    "\n",
    "# 최소 MSE 및 최대 R-squared 값을 저장할 변수와 해당하는 n_estimators 값을 저장할 변수\n",
    "min_mse = np.inf\n",
    "max_r2 = -np.inf\n",
    "min_mse_n_estimators = None\n",
    "max_r2_n_estimators = None\n",
    "\n",
    "# n_estimators 값을 1부터 100까지 변화시키면서 모델 학습\n",
    "for n in range(1, 101):\n",
    "    # 랜덤 포레스트 모델 생성 및 학습\n",
    "    model = RandomForestRegressor(n_estimators=n,random_state=42)\n",
    "    model.fit(X_train, y_train)\n",
    "\n",
    "    # 모델 예측값 계산\n",
    "    y_pred = model.predict(X_test)\n",
    "\n",
    "    # MSE 및 R-squared 계산 및 리스트에 추가\n",
    "    mse = mean_squared_error(y_test, y_pred)\n",
    "    mse_values.append(mse)\n",
    "    r2 = r2_score(y_test, y_pred)\n",
    "    r2_values.append(r2)\n",
    "\n",
    "    # 최소 MSE와 해당하는 n_estimators 값을 저장\n",
    "    if mse < min_mse:\n",
    "        min_mse = mse\n",
    "        min_mse_n_estimators = n\n",
    "\n",
    "    # 최대 R-squared와 해당하는 n_estimators 값을 저장\n",
    "    if r2 > max_r2:\n",
    "        max_r2 = r2\n",
    "        max_r2_n_estimators = n\n",
    "\n",
    "# 그래프 그리기\n",
    "fig, ax1 = plt.subplots()\n",
    "\n",
    "ax1.plot(range(1, 101), mse_values, 'b-')\n",
    "ax1.set_xlabel('n_estimators')\n",
    "ax1.set_ylabel('MSE', color='b')\n",
    "ax1.tick_params('y', colors='b')\n",
    "\n",
    "ax2 = ax1.twinx()\n",
    "ax2.plot(range(1, 101), r2_values, 'r-')\n",
    "ax2.set_ylabel('R-squared', color='r')\n",
    "ax2.tick_params('y', colors='r')\n",
    "\n",
    "plt.title('MSE and R-squared vs. n_estimators')\n",
    "plt.show()\n",
    "\n",
    "print(f\"최소 MSE: {min_mse}, 해당하는 n_estimators: {min_mse_n_estimators}\")\n",
    "print(f\"최대 R-squared: {max_r2}, 해당하는 n_estimators: {max_r2_n_estimators}\")"
   ]
  },
  {
   "attachments": {},
   "cell_type": "markdown",
   "metadata": {},
   "source": [
    "랜덤 포레스트를 사용하여 8:2로 훈련셋과 테스트셋을 나누어 42회 진행하였을 때 \n",
    "- 최소 MSE: 0.7831374986059993\n",
    "- 최대 R-squared: 0.9660031418818049"
   ]
  },
  {
   "cell_type": "code",
   "execution_count": 13,
   "metadata": {},
   "outputs": [
    {
     "data": {
      "image/png": "[encoded data removed]",
      "text/plain": [
       "<Figure size 640x480 with 1 Axes>"
      ]
     },
     "metadata": {},
     "output_type": "display_data"
    }
   ],
   "source": [
    "# 훈련 세트와 테스트 세트로 분할\n",
    "X_train, X_test, y_train, y_test = train_test_split(X, y, test_size=0.2, random_state=42)\n",
    "\n",
    "# 랜덤 포레스트 모델 생성\n",
    "rf_model = RandomForestRegressor(n_estimators=42,random_state=42)\n",
    "\n",
    "# 모델 훈련\n",
    "rf_model.fit(X_train, y_train)\n",
    "\n",
    "# 예측\n",
    "y_pred = rf_model.predict(X_test)\n",
    "\n",
    "# 예측값과 실제값 비교\n",
    "plt.scatter(y_test, y_pred)\n",
    "plt.xlabel('실제값')\n",
    "plt.ylabel('예측값')\n",
    "plt.title('예측값과 실제값 비교')\n",
    "plt.show()\n"
   ]
  },
  {
   "cell_type": "code",
   "execution_count": 14,
   "metadata": {},
   "outputs": [
    {
     "data": {
      "image/png": "[encoded data removed]",
      "text/plain": [
       "<Figure size 1200x800 with 1 Axes>"
      ]
     },
     "metadata": {},
     "output_type": "display_data"
    }
   ],
   "source": [
    "# 각 피처의 중요도 계산\n",
    "importances = model.feature_importances_\n",
    "\n",
    "# 중요도를 내림차순으로 정렬하여 인덱스 배열 생성\n",
    "indices = np.argsort(importances)[::-1]\n",
    "\n",
    "# 중요도 시각화 및 값 출력\n",
    "plt.figure(figsize=(12, 8))\n",
    "plt.title(\"변수의 중요도\", fontsize=16)\n",
    "bars = plt.bar(range(X.shape[1]), importances[indices], color='b', align='center')\n",
    "plt.xticks(range(X.shape[1]), X.columns[indices], rotation=90, fontsize=12)\n",
    "plt.yticks(fontsize=12)\n",
    "plt.xlabel(\"변수\", fontsize=14)\n",
    "plt.ylabel(\"중요도\", fontsize=14)\n",
    "plt.xlim([-1, X.shape[1]])\n",
    "plt.tight_layout()\n",
    "\n",
    "# 각 피처에 대한 값 출력\n",
    "for bar in bars:\n",
    "    yval = bar.get_height()\n",
    "    plt.text(bar.get_x() + bar.get_width() / 2, yval, round(yval, 4), ha='center', va='bottom', fontsize=20)\n",
    "\n",
    "plt.show()"
   ]
  },
  {
   "cell_type": "code",
   "execution_count": 15,
   "metadata": {},
   "outputs": [
    {
     "name": "stderr",
     "output_type": "stream",
     "text": [
      "c:\\Users\\sojh0\\anaconda3\\lib\\site-packages\\seaborn\\utils.py:95: UserWarning: Glyph 8722 (\\N{MINUS SIGN}) missing from current font.\n",
      "  fig.canvas.draw()\n",
      "c:\\Users\\sojh0\\anaconda3\\lib\\site-packages\\IPython\\core\\pylabtools.py:151: UserWarning: Glyph 8722 (\\N{MINUS SIGN}) missing from current font.\n",
      "  fig.canvas.print_figure(bytes_io, **kw)\n"
     ]
    },
    {
     "data": {
      "image/png": "[encoded data removed]",
      "text/plain": [
       "<Figure size 1000x800 with 2 Axes>"
      ]
     },
     "metadata": {},
     "output_type": "display_data"
    }
   ],
   "source": [
    "# 변수 간 상관 계수 계산\n",
    "correlation_matrix = df.corr()\n",
    "\n",
    "# 히트맵 그리기\n",
    "plt.figure(figsize=(10, 8))\n",
    "sns.heatmap(correlation_matrix, annot=True, cmap='coolwarm')\n",
    "plt.title('상관관계 히트맵')\n",
    "plt.show()"
   ]
  },
  {
   "attachments": {},
   "cell_type": "markdown",
   "metadata": {},
   "source": [
    "<h3>모델 해석 및 결론"
   ]
  },
  {
   "attachments": {},
   "cell_type": "markdown",
   "metadata": {},
   "source": [
    "모델 해석 : \n",
    "다음 변수들을 알고 있다면 중고차의 판매가를 예측할 수 있습니다.\n",
    "\n",
    "    - Year : 연식\n",
    "    - Selling_Price : 판매가\n",
    "    - Present_Price : 출고가\n",
    "    - Driven_kms : 주행 거리\n",
    "    - Fuel_Type : 연료\n",
    "    - Selling_type : 판매 형태\n",
    "    - Transmission : 변속기\n",
    "    - Owner : 소유자 변경(횟수)\n",
    "\n",
    "- R-squared는 0.9660031418818049로 1에 가깝습니다.\n",
    "- mse는 0.7831374986059993로 0에 가깝습니다.    \n",
    "\n",
    "해당 모델은 높은 성능을 보이고 있으며 판매가를 높은 확률로 예측할 수 있습니다.     \n",
    "\n",
    "\n",
    "\n",
    "결론 : \n",
    "- 랜덤 포레스트로 학습시킨 모델에서는 각 변수들 중 중요도를 파악하였을 때 88%로 출고가가 매우 높게 나왔으며 판매가와 출고가의 상관 관계가 0.88로 매우 높고 출고가가 높으면 판매가가 높은 건 당연하기 때문입니다. 출고가 다음으로 년도, 주행거리, 변속기, 연료, 판매 형태, 소유자 변경 순입니다.   \n",
    "\n",
    "- 중고차 판매가에 있어서 중요도 순위\n",
    "    1. 출고가\n",
    "    2. 년도\n",
    "    3. 주행거리\n",
    "    4. 변속기\n",
    "    5. 연료\n",
    "    6. 판매 형태\n",
    "    7. 소유자 변경(횟수)\n",
    "    \n",
    "다음과 같은 순위로 중고차 판매에 영향을 미칩니다. "
   ]
  },
  {
   "attachments": {},
   "cell_type": "markdown",
   "metadata": {},
   "source": []
  }
 ],
 "metadata": {
  "kernelspec": {
   "display_name": "Python 3",
   "language": "python",
   "name": "python3"
  },
  "language_info": {
   "codemirror_mode": {
    "name": "ipython",
    "version": 3
   },
   "file_extension": ".py",
   "mimetype": "text/x-python",
   "name": "python",
   "nbconvert_exporter": "python",
   "pygments_lexer": "ipython3",
   "version": "3.9.13"
  },
  "orig_nbformat": 4
 },
 "nbformat": 4,
 "nbformat_minor": 2
}

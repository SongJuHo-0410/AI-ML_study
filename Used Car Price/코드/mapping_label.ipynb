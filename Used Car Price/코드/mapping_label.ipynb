{
 "cells": [
  {
   "cell_type": "code",
   "execution_count": 2,
   "metadata": {},
   "outputs": [],
   "source": [
    "import pandas as pd\n",
    "from sklearn.preprocessing import LabelEncoder\n",
    "\n",
    "# 데이터 읽어오기\n",
    "url = \"https://raw.githubusercontent.com/SongJuHo-0410/AI-ML_study/master/Used%20Car%20Price/car%20data.csv\"\n",
    "df = pd.read_csv(url)\n",
    "\n",
    "# Label Encoding을 통해 각 카테고리컬 변수를 숫자로 변환하고 매핑 정보 저장\n",
    "label_mapping = {}\n",
    "for column in ['Car_Name','Fuel_Type', 'Selling_type', 'Transmission']:\n",
    "    label_encoder = LabelEncoder()\n",
    "    df[column] = label_encoder.fit_transform(df[column])\n",
    "    label_mapping[column] = dict(zip(label_encoder.classes_, label_encoder.transform(label_encoder.classes_)))\n",
    "\n",
    "# 각 매핑 정보를 파일로 저장\n",
    "for column, mapping in label_mapping.items():\n",
    "    with open(f\"{column}_mapping.txt\", \"w\") as file:\n",
    "        for category, label in mapping.items():\n",
    "            file.write(f\"{category}: {label}\\n\")\n"
   ]
  }
 ],
 "metadata": {
  "kernelspec": {
   "display_name": "Python 3",
   "language": "python",
   "name": "python3"
  },
  "language_info": {
   "codemirror_mode": {
    "name": "ipython",
    "version": 3
   },
   "file_extension": ".py",
   "mimetype": "text/x-python",
   "name": "python",
   "nbconvert_exporter": "python",
   "pygments_lexer": "ipython3",
   "version": "3.10.11"
  }
 },
 "nbformat": 4,
 "nbformat_minor": 2
}

{
 "cells": [
  {
   "cell_type": "markdown",
   "id": "4deadf24",
   "metadata": {
    "papermill": {
     "duration": 0.005778,
     "end_time": "2023-12-21T15:44:04.575035",
     "exception": false,
     "start_time": "2023-12-21T15:44:04.569257",
     "status": "completed"
    },
    "tags": []
   },
   "source": [
    "**This notebook is an exercise in the [Introduction to Machine Learning](https://www.kaggle.com/learn/intro-to-machine-learning) course.  You can reference the tutorial at [this link](https://www.kaggle.com/dansbecker/underfitting-and-overfitting).**\n",
    "\n",
    "---\n"
   ]
  },
  {
   "cell_type": "markdown",
   "id": "61cdd0d4",
   "metadata": {
    "papermill": {
     "duration": 0.004349,
     "end_time": "2023-12-21T15:44:04.584553",
     "exception": false,
     "start_time": "2023-12-21T15:44:04.580204",
     "status": "completed"
    },
    "tags": []
   },
   "source": [
    "## Recap\n",
    "You've built your first model, and now it's time to optimize the size of the tree to make better predictions. Run this cell to set up your coding environment where the previous step left off."
   ]
  },
  {
   "cell_type": "code",
   "execution_count": 1,
   "id": "e645e737",
   "metadata": {
    "execution": {
     "iopub.execute_input": "2023-12-21T15:44:04.596216Z",
     "iopub.status.busy": "2023-12-21T15:44:04.595795Z",
     "iopub.status.idle": "2023-12-21T15:44:06.892443Z",
     "shell.execute_reply": "2023-12-21T15:44:06.891202Z"
    },
    "papermill": {
     "duration": 2.305879,
     "end_time": "2023-12-21T15:44:06.895126",
     "exception": false,
     "start_time": "2023-12-21T15:44:04.589247",
     "status": "completed"
    },
    "tags": []
   },
   "outputs": [
    {
     "name": "stdout",
     "output_type": "stream",
     "text": [
      "Validation MAE: 29,653\n",
      "\n",
      "Setup complete\n"
     ]
    }
   ],
   "source": [
    "# Code you have previously used to load data\n",
    "import pandas as pd\n",
    "from sklearn.metrics import mean_absolute_error\n",
    "from sklearn.model_selection import train_test_split\n",
    "from sklearn.tree import DecisionTreeRegressor\n",
    "\n",
    "\n",
    "# Path of the file to read\n",
    "iowa_file_path = '../input/home-data-for-ml-course/train.csv'\n",
    "\n",
    "home_data = pd.read_csv(iowa_file_path)\n",
    "# Create target object and call it y\n",
    "y = home_data.SalePrice\n",
    "# Create X\n",
    "features = ['LotArea', 'YearBuilt', '1stFlrSF', '2ndFlrSF', 'FullBath', 'BedroomAbvGr', 'TotRmsAbvGrd']\n",
    "X = home_data[features]\n",
    "\n",
    "# Split into validation and training data\n",
    "train_X, val_X, train_y, val_y = train_test_split(X, y, random_state=1)\n",
    "\n",
    "# Specify Model\n",
    "iowa_model = DecisionTreeRegressor(random_state=1)\n",
    "# Fit Model\n",
    "iowa_model.fit(train_X, train_y)\n",
    "\n",
    "# Make validation predictions and calculate mean absolute error\n",
    "val_predictions = iowa_model.predict(val_X)\n",
    "val_mae = mean_absolute_error(val_predictions, val_y)\n",
    "print(\"Validation MAE: {:,.0f}\".format(val_mae))\n",
    "\n",
    "# Set up code checking\n",
    "from learntools.core import binder\n",
    "binder.bind(globals())\n",
    "from learntools.machine_learning.ex5 import *\n",
    "print(\"\\nSetup complete\")"
   ]
  },
  {
   "cell_type": "markdown",
   "id": "7f95b823",
   "metadata": {
    "papermill": {
     "duration": 0.004548,
     "end_time": "2023-12-21T15:44:06.904645",
     "exception": false,
     "start_time": "2023-12-21T15:44:06.900097",
     "status": "completed"
    },
    "tags": []
   },
   "source": [
    "# Exercises\n",
    "You could write the function `get_mae` yourself. For now, we'll supply it. This is the same function you read about in the previous lesson. Just run the cell below."
   ]
  },
  {
   "cell_type": "code",
   "execution_count": 2,
   "id": "c95a0305",
   "metadata": {
    "execution": {
     "iopub.execute_input": "2023-12-21T15:44:06.916232Z",
     "iopub.status.busy": "2023-12-21T15:44:06.915727Z",
     "iopub.status.idle": "2023-12-21T15:44:06.921686Z",
     "shell.execute_reply": "2023-12-21T15:44:06.920687Z"
    },
    "papermill": {
     "duration": 0.014548,
     "end_time": "2023-12-21T15:44:06.923978",
     "exception": false,
     "start_time": "2023-12-21T15:44:06.909430",
     "status": "completed"
    },
    "tags": []
   },
   "outputs": [],
   "source": [
    "def get_mae(max_leaf_nodes, train_X, val_X, train_y, val_y):\n",
    "    model = DecisionTreeRegressor(max_leaf_nodes=max_leaf_nodes, random_state=0)\n",
    "    model.fit(train_X, train_y)\n",
    "    preds_val = model.predict(val_X)\n",
    "    mae = mean_absolute_error(val_y, preds_val)\n",
    "    return(mae)"
   ]
  },
  {
   "cell_type": "markdown",
   "id": "9361d25e",
   "metadata": {
    "papermill": {
     "duration": 0.004489,
     "end_time": "2023-12-21T15:44:06.933727",
     "exception": false,
     "start_time": "2023-12-21T15:44:06.929238",
     "status": "completed"
    },
    "tags": []
   },
   "source": [
    "## Step 1: Compare Different Tree Sizes\n",
    "Write a loop that tries the following values for *max_leaf_nodes* from a set of possible values.\n",
    "\n",
    "Call the *get_mae* function on each value of max_leaf_nodes. Store the output in some way that allows you to select the value of `max_leaf_nodes` that gives the most accurate model on your data."
   ]
  },
  {
   "cell_type": "code",
   "execution_count": 3,
   "id": "06ade966",
   "metadata": {
    "execution": {
     "iopub.execute_input": "2023-12-21T15:44:06.945507Z",
     "iopub.status.busy": "2023-12-21T15:44:06.944717Z",
     "iopub.status.idle": "2023-12-21T15:44:07.001061Z",
     "shell.execute_reply": "2023-12-21T15:44:06.999798Z"
    },
    "papermill": {
     "duration": 0.065773,
     "end_time": "2023-12-21T15:44:07.004292",
     "exception": false,
     "start_time": "2023-12-21T15:44:06.938519",
     "status": "completed"
    },
    "tags": []
   },
   "outputs": [
    {
     "data": {
      "application/javascript": [
       "parent.postMessage({\"jupyterEvent\": \"custom.exercise_interaction\", \"data\": {\"outcomeType\": 1, \"valueTowardsCompletion\": 0.5, \"interactionType\": 1, \"questionType\": 1, \"questionId\": \"1_BestTreeSize\", \"learnToolsVersion\": \"0.3.4\", \"failureMessage\": \"\", \"exceptionClass\": \"\", \"trace\": \"\"}}, \"*\")"
      ],
      "text/plain": [
       "<IPython.core.display.Javascript object>"
      ]
     },
     "metadata": {},
     "output_type": "display_data"
    },
    {
     "data": {
      "text/markdown": [
       "<span style=\"color:#33cc33\">Correct</span>"
      ],
      "text/plain": [
       "Correct"
      ]
     },
     "metadata": {},
     "output_type": "display_data"
    }
   ],
   "source": [
    "candidate_max_leaf_nodes = [5, 25, 50, 100, 250, 500]\n",
    "# Write loop to find the ideal tree size from candidate_max_leaf_nodes\n",
    "leaf_nodes_mae  = []\n",
    "leaf_nodes = []\n",
    "for leaf_node in candidate_max_leaf_nodes:\n",
    "    leaf_nodes.append(leaf_node)\n",
    "    leaf_nodes_mae.append(get_mae(leaf_node, train_X, val_X, train_y, val_y))\n",
    "\n",
    "\n",
    "# Store the best value of max_leaf_nodes (it will be either 5, 25, 50, 100, 250 or 500)\n",
    "best_tree_size = leaf_nodes[leaf_nodes_mae.index(min(leaf_nodes_mae))]\n",
    "\n",
    "# Check your answer\n",
    "step_1.check()"
   ]
  },
  {
   "cell_type": "code",
   "execution_count": 4,
   "id": "5484fc0b",
   "metadata": {
    "execution": {
     "iopub.execute_input": "2023-12-21T15:44:07.016614Z",
     "iopub.status.busy": "2023-12-21T15:44:07.016225Z",
     "iopub.status.idle": "2023-12-21T15:44:07.023760Z",
     "shell.execute_reply": "2023-12-21T15:44:07.022989Z"
    },
    "papermill": {
     "duration": 0.016488,
     "end_time": "2023-12-21T15:44:07.026090",
     "exception": false,
     "start_time": "2023-12-21T15:44:07.009602",
     "status": "completed"
    },
    "tags": []
   },
   "outputs": [
    {
     "data": {
      "application/javascript": [
       "parent.postMessage({\"jupyterEvent\": \"custom.exercise_interaction\", \"data\": {\"interactionType\": 3, \"questionType\": 1, \"questionId\": \"1_BestTreeSize\", \"learnToolsVersion\": \"0.3.4\", \"valueTowardsCompletion\": 0.0, \"failureMessage\": \"\", \"exceptionClass\": \"\", \"trace\": \"\", \"outcomeType\": 4}}, \"*\")"
      ],
      "text/plain": [
       "<IPython.core.display.Javascript object>"
      ]
     },
     "metadata": {},
     "output_type": "display_data"
    },
    {
     "data": {
      "text/markdown": [
       "<span style=\"color:#33cc99\">Solution:</span> \n",
       "```python\n",
       "# Here is a short solution with a dict comprehension.\n",
       "# The lesson gives an example of how to do this with an explicit loop.\n",
       "scores = {leaf_size: get_mae(leaf_size, train_X, val_X, train_y, val_y) for leaf_size in candidate_max_leaf_nodes}\n",
       "best_tree_size = min(scores, key=scores.get)\n",
       "\n",
       "```"
      ],
      "text/plain": [
       "Solution: \n",
       "```python\n",
       "# Here is a short solution with a dict comprehension.\n",
       "# The lesson gives an example of how to do this with an explicit loop.\n",
       "scores = {leaf_size: get_mae(leaf_size, train_X, val_X, train_y, val_y) for leaf_size in candidate_max_leaf_nodes}\n",
       "best_tree_size = min(scores, key=scores.get)\n",
       "\n",
       "```"
      ]
     },
     "metadata": {},
     "output_type": "display_data"
    }
   ],
   "source": [
    "# The lines below will show you a hint or the solution.\n",
    "# step_1.hint() \n",
    "step_1.solution()"
   ]
  },
  {
   "cell_type": "markdown",
   "id": "9610d6b2",
   "metadata": {
    "papermill": {
     "duration": 0.005329,
     "end_time": "2023-12-21T15:44:07.036926",
     "exception": false,
     "start_time": "2023-12-21T15:44:07.031597",
     "status": "completed"
    },
    "tags": []
   },
   "source": [
    "## Step 2: Fit Model Using All Data\n",
    "You know the best tree size. If you were going to deploy this model in practice, you would make it even more accurate by using all of the data and keeping that tree size.  That is, you don't need to hold out the validation data now that you've made all your modeling decisions."
   ]
  },
  {
   "cell_type": "code",
   "execution_count": 5,
   "id": "feaac833",
   "metadata": {
    "execution": {
     "iopub.execute_input": "2023-12-21T15:44:07.050195Z",
     "iopub.status.busy": "2023-12-21T15:44:07.049533Z",
     "iopub.status.idle": "2023-12-21T15:44:07.066855Z",
     "shell.execute_reply": "2023-12-21T15:44:07.066055Z"
    },
    "papermill": {
     "duration": 0.027078,
     "end_time": "2023-12-21T15:44:07.069489",
     "exception": false,
     "start_time": "2023-12-21T15:44:07.042411",
     "status": "completed"
    },
    "tags": []
   },
   "outputs": [
    {
     "data": {
      "application/javascript": [
       "parent.postMessage({\"jupyterEvent\": \"custom.exercise_interaction\", \"data\": {\"outcomeType\": 1, \"valueTowardsCompletion\": 0.5, \"interactionType\": 1, \"questionType\": 2, \"questionId\": \"2_FitModelWithAllData\", \"learnToolsVersion\": \"0.3.4\", \"failureMessage\": \"\", \"exceptionClass\": \"\", \"trace\": \"\"}}, \"*\")"
      ],
      "text/plain": [
       "<IPython.core.display.Javascript object>"
      ]
     },
     "metadata": {},
     "output_type": "display_data"
    },
    {
     "data": {
      "text/markdown": [
       "<span style=\"color:#33cc33\">Correct</span>"
      ],
      "text/plain": [
       "Correct"
      ]
     },
     "metadata": {},
     "output_type": "display_data"
    }
   ],
   "source": [
    "# Fill in argument to make optimal size and uncomment\n",
    "final_model = DecisionTreeRegressor(max_leaf_nodes=best_tree_size,random_state=1)\n",
    "\n",
    "# fit the final model and uncomment the next two lines\n",
    "final_model.fit(X,y)\n",
    "\n",
    "# Check your answer\n",
    "step_2.check()"
   ]
  },
  {
   "cell_type": "code",
   "execution_count": 6,
   "id": "4c68a7a7",
   "metadata": {
    "execution": {
     "iopub.execute_input": "2023-12-21T15:44:07.083898Z",
     "iopub.status.busy": "2023-12-21T15:44:07.083281Z",
     "iopub.status.idle": "2023-12-21T15:44:07.087704Z",
     "shell.execute_reply": "2023-12-21T15:44:07.086497Z"
    },
    "papermill": {
     "duration": 0.014639,
     "end_time": "2023-12-21T15:44:07.090140",
     "exception": false,
     "start_time": "2023-12-21T15:44:07.075501",
     "status": "completed"
    },
    "tags": []
   },
   "outputs": [],
   "source": [
    "# step_2.hint()\n",
    "# step_2.solution()"
   ]
  },
  {
   "cell_type": "markdown",
   "id": "187f0693",
   "metadata": {
    "papermill": {
     "duration": 0.00606,
     "end_time": "2023-12-21T15:44:07.102667",
     "exception": false,
     "start_time": "2023-12-21T15:44:07.096607",
     "status": "completed"
    },
    "tags": []
   },
   "source": [
    "You've tuned this model and improved your results. But we are still using Decision Tree models, which are not very sophisticated by modern machine learning standards. In the next step you will learn to use Random Forests to improve your models even more.\n",
    "\n",
    "# Keep Going\n",
    "\n",
    "You are ready for **[Random Forests](https://www.kaggle.com/dansbecker/random-forests).**\n"
   ]
  },
  {
   "cell_type": "markdown",
   "id": "1fbf681b",
   "metadata": {
    "papermill": {
     "duration": 0.005853,
     "end_time": "2023-12-21T15:44:07.114667",
     "exception": false,
     "start_time": "2023-12-21T15:44:07.108814",
     "status": "completed"
    },
    "tags": []
   },
   "source": [
    "---\n",
    "\n",
    "\n",
    "\n",
    "\n",
    "*Have questions or comments? Visit the [course discussion forum](https://www.kaggle.com/learn/intro-to-machine-learning/discussion) to chat with other learners.*"
   ]
  }
 ],
 "metadata": {
  "kaggle": {
   "accelerator": "none",
   "dataSources": [
    {
     "databundleVersionId": 111096,
     "sourceId": 10211,
     "sourceType": "competition"
    },
    {
     "datasetId": 11167,
     "sourceId": 15520,
     "sourceType": "datasetVersion"
    },
    {
     "datasetId": 2709,
     "sourceId": 38454,
     "sourceType": "datasetVersion"
    }
   ],
   "isGpuEnabled": false,
   "isInternetEnabled": false,
   "language": "python",
   "sourceType": "notebook"
  },
  "kernelspec": {
   "display_name": "Python 3",
   "language": "python",
   "name": "python3"
  },
  "language_info": {
   "codemirror_mode": {
    "name": "ipython",
    "version": 3
   },
   "file_extension": ".py",
   "mimetype": "text/x-python",
   "name": "python",
   "nbconvert_exporter": "python",
   "pygments_lexer": "ipython3",
   "version": "3.10.12"
  },
  "papermill": {
   "default_parameters": {},
   "duration": 6.727887,
   "end_time": "2023-12-21T15:44:07.742065",
   "environment_variables": {},
   "exception": null,
   "input_path": "__notebook__.ipynb",
   "output_path": "__notebook__.ipynb",
   "parameters": {},
   "start_time": "2023-12-21T15:44:01.014178",
   "version": "2.4.0"
  }
 },
 "nbformat": 4,
 "nbformat_minor": 5
}

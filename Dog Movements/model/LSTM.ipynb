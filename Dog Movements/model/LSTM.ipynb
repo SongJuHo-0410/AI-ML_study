{
  "cells": [
    {
      "cell_type": "code",
      "source": [
        "import numpy as np\n",
        "import pandas as pd\n",
        "import matplotlib.pyplot as plt\n",
        "\n",
        "f=open(\"/content/DogMoveData.csv\",\"r\")\n",
        "dogmove_data=pd.read_csv(f,header=0)\n",
        "seq=dogmove_data[['ABack_x','ABack_y','ABack_z','ANeck_x', 'ANeck_y', 'ANeck_z', 'GBack_x', 'GBack_y', 'GBack_z', 'GNeck_x', 'GNeck_y', 'GNeck_z']].to_numpy()"
      ],
      "metadata": {
        "id": "mxNJ1tLrgWf_"
      },
      "execution_count": null,
      "outputs": []
    },
    {
      "cell_type": "code",
      "source": [
        "# 시계열 데이터를 윈도우 단위로 자르는 함수\n",
        "# 단순하게 데이터를 10초단위로 묶음.\n",
        "def seq2dataset(seq,window,horizon):\n",
        "    X=[]; Y=[]\n",
        "    for i in range(len(seq)-(window+horizon)+1):\n",
        "        x=seq[i:(i+window)]\n",
        "        y=dogmove_data['Behavior_1'][i+window-1] #윈도우 크기의 데이터. 마지막 행동을 y로 설정\n",
        "        X.append(x); Y.append(y)\n",
        "    return np.array(X), np.array(Y)\n",
        "\n",
        "w=100 # 윈도우 크기 # (0.1 * 100) = 10초동안의 데이터를 하나의 윈도우로 묶음\n",
        "h=1 # 수평선 계수\n",
        "\n",
        "X,Y = seq2dataset(seq,w,h)"
      ],
      "metadata": {
        "id": "FY7Hjbr9LW3R"
      },
      "execution_count": null,
      "outputs": []
    },
    {
      "cell_type": "code",
      "source": [
        "from tensorflow.keras.models import Sequential\n",
        "from tensorflow.keras.layers import Dense, LSTM, Dropout\n",
        "from tensorflow.keras.utils import to_categorical\n",
        "from sklearn.model_selection import train_test_split\n",
        "from sklearn.preprocessing import LabelEncoder\n",
        "\n",
        "encoder = LabelEncoder()\n",
        "encoder.fit(Y)\n",
        "Y_encoder = encoder.transform(Y)\n",
        "Y_encoder\n",
        "\n",
        "# 훈련 집합과 테스트 집합으로 분할\n",
        "x_train, x_test, y_train, y_test = train_test_split(X, Y_encoder, train_size=0.6)\n",
        "y_train = to_categorical(y_train)\n",
        "y_test = to_categorical(y_test)"
      ],
      "metadata": {
        "id": "05xriYONLoRS"
      },
      "execution_count": null,
      "outputs": []
    },
    {
      "cell_type": "code",
      "source": [
        "from tensorflow.keras.callbacks import EarlyStopping, ModelCheckpoint\n",
        "\n",
        "hidden_units = 128\n",
        "num_classes = 13 #len(set(Y))의 값. seq2dataset 메소드를 통해 나눈 class의 종류를 의미함. 좀 더 의미있게 데이터를 나누기 위해 메소드 수정을 통해 이 값도 앞으로 수정되어야 함.\n",
        "\n",
        "model = Sequential()\n",
        "model.add(LSTM(hidden_units))\n",
        "model.add(Dense(num_classes, activation='softmax'))\n",
        "\n",
        "es = EarlyStopping(monitor='val_loss', mode='min', verbose=1, patience=4)\n",
        "mc = ModelCheckpoint('best_model.h5', monitor='val_acc', mode='max', verbose=1, save_best_only=True)\n",
        "\n",
        "model.compile(loss='categorical_crossentropy', optimizer='adam', metrics=['acc'])\n",
        "history = model.fit(x_train, y_train, batch_size=128, epochs=100, callbacks=[es, mc], validation_data=(x_test, y_test))"
      ],
      "metadata": {
        "colab": {
          "base_uri": "https://localhost:8080/"
        },
        "id": "o-PPaNECLudv",
        "outputId": "6d1c625d-5555-44f9-91eb-41b6ca29f237"
      },
      "execution_count": null,
      "outputs": [
        {
          "output_type": "stream",
          "name": "stdout",
          "text": [
            "Epoch 1/100\n",
            "1164/1165 [============================>.] - ETA: 0s - loss: 0.7652 - acc: 0.7360\n",
            "Epoch 1: val_acc improved from -inf to 0.82020, saving model to best_model.h5\n",
            "1165/1165 [==============================] - 20s 12ms/step - loss: 0.7652 - acc: 0.7360 - val_loss: 0.5219 - val_acc: 0.8202\n",
            "Epoch 2/100\n",
            "1162/1165 [============================>.] - ETA: 0s - loss: 0.3460 - acc: 0.8812\n",
            "Epoch 2: val_acc improved from 0.82020 to 0.90004, saving model to best_model.h5\n",
            "1165/1165 [==============================] - 13s 11ms/step - loss: 0.3459 - acc: 0.8812 - val_loss: 0.2961 - val_acc: 0.9000\n",
            "Epoch 3/100\n",
            "1165/1165 [==============================] - ETA: 0s - loss: 0.2376 - acc: 0.9200\n",
            "Epoch 3: val_acc improved from 0.90004 to 0.93221, saving model to best_model.h5\n",
            "1165/1165 [==============================] - 13s 11ms/step - loss: 0.2376 - acc: 0.9200 - val_loss: 0.2056 - val_acc: 0.9322\n",
            "Epoch 4/100\n",
            "1165/1165 [==============================] - ETA: 0s - loss: 0.2033 - acc: 0.9320\n",
            "Epoch 4: val_acc improved from 0.93221 to 0.94514, saving model to best_model.h5\n",
            "1165/1165 [==============================] - 15s 13ms/step - loss: 0.2033 - acc: 0.9320 - val_loss: 0.1679 - val_acc: 0.9451\n",
            "Epoch 5/100\n",
            "1163/1165 [============================>.] - ETA: 0s - loss: 0.1412 - acc: 0.9538\n",
            "Epoch 5: val_acc improved from 0.94514 to 0.95593, saving model to best_model.h5\n",
            "1165/1165 [==============================] - 12s 11ms/step - loss: 0.1411 - acc: 0.9538 - val_loss: 0.1320 - val_acc: 0.9559\n",
            "Epoch 6/100\n",
            "1160/1165 [============================>.] - ETA: 0s - loss: 0.1187 - acc: 0.9609\n",
            "Epoch 6: val_acc improved from 0.95593 to 0.96287, saving model to best_model.h5\n",
            "1165/1165 [==============================] - 13s 11ms/step - loss: 0.1186 - acc: 0.9609 - val_loss: 0.1096 - val_acc: 0.9629\n",
            "Epoch 7/100\n",
            "1161/1165 [============================>.] - ETA: 0s - loss: 0.1030 - acc: 0.9657\n",
            "Epoch 7: val_acc improved from 0.96287 to 0.96386, saving model to best_model.h5\n",
            "1165/1165 [==============================] - 13s 11ms/step - loss: 0.1029 - acc: 0.9657 - val_loss: 0.1080 - val_acc: 0.9639\n",
            "Epoch 8/100\n",
            "1163/1165 [============================>.] - ETA: 0s - loss: 0.0940 - acc: 0.9688\n",
            "Epoch 8: val_acc did not improve from 0.96386\n",
            "1165/1165 [==============================] - 15s 13ms/step - loss: 0.0941 - acc: 0.9688 - val_loss: 0.1089 - val_acc: 0.9637\n",
            "Epoch 9/100\n",
            "1165/1165 [==============================] - ETA: 0s - loss: 0.0892 - acc: 0.9702\n",
            "Epoch 9: val_acc improved from 0.96386 to 0.97300, saving model to best_model.h5\n",
            "1165/1165 [==============================] - 12s 11ms/step - loss: 0.0892 - acc: 0.9702 - val_loss: 0.0822 - val_acc: 0.9730\n",
            "Epoch 10/100\n",
            "1160/1165 [============================>.] - ETA: 0s - loss: 0.0784 - acc: 0.9738\n",
            "Epoch 10: val_acc did not improve from 0.97300\n",
            "1165/1165 [==============================] - 13s 11ms/step - loss: 0.0786 - acc: 0.9738 - val_loss: 0.1126 - val_acc: 0.9615\n",
            "Epoch 11/100\n",
            "1165/1165 [==============================] - ETA: 0s - loss: 0.0768 - acc: 0.9743\n",
            "Epoch 11: val_acc did not improve from 0.97300\n",
            "1165/1165 [==============================] - 12s 10ms/step - loss: 0.0768 - acc: 0.9743 - val_loss: 0.0854 - val_acc: 0.9721\n",
            "Epoch 12/100\n",
            "1164/1165 [============================>.] - ETA: 0s - loss: 0.0751 - acc: 0.9747\n",
            "Epoch 12: val_acc improved from 0.97300 to 0.97366, saving model to best_model.h5\n",
            "1165/1165 [==============================] - 12s 11ms/step - loss: 0.0751 - acc: 0.9747 - val_loss: 0.0776 - val_acc: 0.9737\n",
            "Epoch 13/100\n",
            "1163/1165 [============================>.] - ETA: 0s - loss: 0.0755 - acc: 0.9759\n",
            "Epoch 13: val_acc did not improve from 0.97366\n",
            "1165/1165 [==============================] - 12s 10ms/step - loss: 0.0755 - acc: 0.9759 - val_loss: 0.1132 - val_acc: 0.9613\n",
            "Epoch 14/100\n",
            "1165/1165 [==============================] - ETA: 0s - loss: 0.0729 - acc: 0.9757\n",
            "Epoch 14: val_acc improved from 0.97366 to 0.97527, saving model to best_model.h5\n",
            "1165/1165 [==============================] - 13s 11ms/step - loss: 0.0729 - acc: 0.9757 - val_loss: 0.0740 - val_acc: 0.9753\n",
            "Epoch 15/100\n",
            "1165/1165 [==============================] - ETA: 0s - loss: 0.0571 - acc: 0.9815\n",
            "Epoch 15: val_acc improved from 0.97527 to 0.98083, saving model to best_model.h5\n",
            "1165/1165 [==============================] - 14s 12ms/step - loss: 0.0571 - acc: 0.9815 - val_loss: 0.0576 - val_acc: 0.9808\n",
            "Epoch 16/100\n",
            "1165/1165 [==============================] - ETA: 0s - loss: 0.0632 - acc: 0.9792\n",
            "Epoch 16: val_acc did not improve from 0.98083\n",
            "1165/1165 [==============================] - 16s 14ms/step - loss: 0.0632 - acc: 0.9792 - val_loss: 0.0797 - val_acc: 0.9734\n",
            "Epoch 17/100\n",
            "1165/1165 [==============================] - ETA: 0s - loss: 0.0731 - acc: 0.9762\n",
            "Epoch 17: val_acc did not improve from 0.98083\n",
            "1165/1165 [==============================] - 15s 13ms/step - loss: 0.0731 - acc: 0.9762 - val_loss: 0.0586 - val_acc: 0.9803\n",
            "Epoch 18/100\n",
            "1164/1165 [============================>.] - ETA: 0s - loss: 0.0560 - acc: 0.9816\n",
            "Epoch 18: val_acc did not improve from 0.98083\n",
            "1165/1165 [==============================] - 16s 14ms/step - loss: 0.0560 - acc: 0.9816 - val_loss: 0.0661 - val_acc: 0.9786\n",
            "Epoch 19/100\n",
            "1164/1165 [============================>.] - ETA: 0s - loss: 0.0566 - acc: 0.9813\n",
            "Epoch 19: val_acc improved from 0.98083 to 0.98309, saving model to best_model.h5\n",
            "1165/1165 [==============================] - 17s 14ms/step - loss: 0.0566 - acc: 0.9813 - val_loss: 0.0512 - val_acc: 0.9831\n",
            "Epoch 20/100\n",
            "1163/1165 [============================>.] - ETA: 0s - loss: 0.0468 - acc: 0.9844\n",
            "Epoch 20: val_acc improved from 0.98309 to 0.98336, saving model to best_model.h5\n",
            "1165/1165 [==============================] - 13s 11ms/step - loss: 0.0468 - acc: 0.9844 - val_loss: 0.0501 - val_acc: 0.9834\n",
            "Epoch 21/100\n",
            "1164/1165 [============================>.] - ETA: 0s - loss: 0.0513 - acc: 0.9826\n",
            "Epoch 21: val_acc did not improve from 0.98336\n",
            "1165/1165 [==============================] - 14s 12ms/step - loss: 0.0512 - acc: 0.9826 - val_loss: 0.0539 - val_acc: 0.9822\n",
            "Epoch 22/100\n",
            "1161/1165 [============================>.] - ETA: 0s - loss: 0.0469 - acc: 0.9844\n",
            "Epoch 22: val_acc improved from 0.98336 to 0.98462, saving model to best_model.h5\n",
            "1165/1165 [==============================] - 13s 11ms/step - loss: 0.0468 - acc: 0.9844 - val_loss: 0.0459 - val_acc: 0.9846\n",
            "Epoch 23/100\n",
            "1165/1165 [==============================] - ETA: 0s - loss: 0.0418 - acc: 0.9858\n",
            "Epoch 23: val_acc improved from 0.98462 to 0.98576, saving model to best_model.h5\n",
            "1165/1165 [==============================] - 13s 11ms/step - loss: 0.0418 - acc: 0.9858 - val_loss: 0.0423 - val_acc: 0.9858\n",
            "Epoch 24/100\n",
            "1163/1165 [============================>.] - ETA: 0s - loss: 0.0424 - acc: 0.9860\n",
            "Epoch 24: val_acc did not improve from 0.98576\n",
            "1165/1165 [==============================] - 15s 13ms/step - loss: 0.0424 - acc: 0.9860 - val_loss: 0.0498 - val_acc: 0.9853\n",
            "Epoch 25/100\n",
            "1163/1165 [============================>.] - ETA: 0s - loss: 0.0447 - acc: 0.9854\n",
            "Epoch 25: val_acc did not improve from 0.98576\n",
            "1165/1165 [==============================] - 13s 11ms/step - loss: 0.0447 - acc: 0.9854 - val_loss: 0.0454 - val_acc: 0.9848\n",
            "Epoch 26/100\n",
            "1164/1165 [============================>.] - ETA: 0s - loss: 0.0460 - acc: 0.9846\n",
            "Epoch 26: val_acc did not improve from 0.98576\n",
            "1165/1165 [==============================] - 13s 11ms/step - loss: 0.0459 - acc: 0.9846 - val_loss: 0.0564 - val_acc: 0.9812\n",
            "Epoch 27/100\n",
            "1165/1165 [==============================] - ETA: 0s - loss: 0.0445 - acc: 0.9850\n",
            "Epoch 27: val_acc did not improve from 0.98576\n",
            "1165/1165 [==============================] - 15s 13ms/step - loss: 0.0445 - acc: 0.9850 - val_loss: 0.0564 - val_acc: 0.9813\n",
            "Epoch 27: early stopping\n"
          ]
        }
      ]
    },
    {
      "cell_type": "code",
      "source": [
        "from tensorflow.keras.models import load_model\n",
        "\n",
        "# LSTM 모델 평가\n",
        "loaded_model = load_model('best_model.h5')\n",
        "ev=loaded_model.evaluate(x_test,y_test,verbose=0)\n",
        "print(\"손실 함수:\",ev[0],\"정확도:\",ev[1])\n",
        "\n",
        "epochs = range(1, len(history.history['acc']) + 1)\n",
        "plt.plot(epochs, history.history['loss'])\n",
        "plt.plot(epochs, history.history['val_loss'])\n",
        "plt.title('model loss')\n",
        "plt.ylabel('loss')\n",
        "plt.xlabel('epoch')\n",
        "plt.legend(['train', 'test'], loc='upper left')\n",
        "plt.show()"
      ],
      "metadata": {
        "colab": {
          "base_uri": "https://localhost:8080/",
          "height": 313
        },
        "id": "pEWeWmo5NLUY",
        "outputId": "3ad44e60-8b05-4385-ab57-6c61cbe3ab4a"
      },
      "execution_count": null,
      "outputs": [
        {
          "output_type": "stream",
          "name": "stdout",
          "text": [
            "손실 함수: 0.04231945797801018 정확도: 0.9857584238052368\n"
          ]
        },
        {
          "output_type": "display_data",
          "data": {
            "text/plain": [
              "<Figure size 432x288 with 1 Axes>"
            ],
            "image/png": "[encoded data removed]"
          },
          "metadata": {
            "needs_background": "light"
          }
        }
      ]
    }
  ],
  "metadata": {
    "colab": {
      "provenance": []
    },
    "kernelspec": {
      "display_name": "Python 3",
      "name": "python3"
    },
    "language_info": {
      "name": "python"
    },
    "accelerator": "GPU",
    "gpuClass": "standard"
  },
  "nbformat": 4,
  "nbformat_minor": 0
}
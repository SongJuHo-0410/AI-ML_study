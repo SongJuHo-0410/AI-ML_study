{
  "nbformat": 4,
  "nbformat_minor": 0,
  "metadata": {
    "colab": {
      "provenance": []
    },
    "kernelspec": {
      "name": "python3",
      "display_name": "Python 3"
    },
    "language_info": {
      "name": "python"
    },
    "gpuClass": "standard"
  },
  "cells": [
    {
      "cell_type": "code",
      "source": [
        "import pandas as pd\n",
        "import numpy as np\n",
        "from sklearn.preprocessing import LabelEncoder"
      ],
      "metadata": {
        "id": "UIQUQ9X8d6yz"
      },
      "execution_count": null,
      "outputs": []
    },
    {
      "cell_type": "code",
      "execution_count": null,
      "metadata": {
        "id": "ufY4BzjKOEpe"
      },
      "outputs": [],
      "source": [
        "# load data file\n",
        "uri = '/content/drive/MyDrive/3-2/인공지능 공학/project/'\n",
        "\n",
        "data = pd.read_csv(uri+'DogMoveData_csv_format/DogMoveData.csv')\n",
        "dog_data = pd.read_excel(uri+'DogInfo.xlsx')"
      ]
    },
    {
      "cell_type": "code",
      "source": [
        "data.describe"
      ],
      "metadata": {
        "colab": {
          "base_uri": "https://localhost:8080/"
        },
        "id": "nKJqVIeFRTrs",
        "outputId": "a6bdc903-6949-4c53-d604-e1c966d66949"
      },
      "execution_count": null,
      "outputs": [
        {
          "output_type": "execute_result",
          "data": {
            "text/plain": [
              "<bound method NDFrame.describe of           DogID  TestNum    t_sec   ABack_x   ABack_y   ABack_z   ANeck_x  \\\n",
              "0            16        1     0.00  0.041504  0.938965 -0.015137 -0.067871   \n",
              "1            16        1     0.01  0.041992  0.941895 -0.020020 -0.128906   \n",
              "2            16        1     0.02  0.040527  0.939453 -0.004395 -0.158691   \n",
              "3            16        1     0.03  0.021484  0.946289  0.007813 -0.122070   \n",
              "4            16        1     0.04 -0.000977  0.951172  0.033691 -0.053711   \n",
              "...         ...      ...      ...       ...       ...       ...       ...   \n",
              "10611063     74        2  1928.19  0.018066  0.436523  0.808105 -0.620605   \n",
              "10611064     74        2  1928.20 -0.021973  0.515625  0.813965 -0.671875   \n",
              "10611065     74        2  1928.21 -0.041504  0.507324  0.782227 -0.674805   \n",
              "10611066     74        2  1928.22 -0.032715  0.484375  0.824219 -0.685059   \n",
              "10611067     74        2  1928.23  0.033691  0.432617  0.785645 -0.664063   \n",
              "\n",
              "           ANeck_y   ANeck_z    GBack_x    GBack_y    GBack_z     GNeck_x  \\\n",
              "0        -0.510254 -0.934570 -17.639161 -22.766115   7.446290   -7.934571   \n",
              "1        -0.494141 -0.913086 -15.075685 -11.413575   4.821778   -3.906250   \n",
              "2        -0.480469 -0.911133 -12.207032  -0.122070   2.807617   -0.488281   \n",
              "3        -0.486816 -0.880371  -9.460450   7.995606   1.586914    1.159668   \n",
              "4        -0.500000 -0.807129  -8.361817  14.587403  -1.037598    4.577637   \n",
              "...            ...       ...        ...        ...        ...         ...   \n",
              "10611063  0.326172 -0.647949  23.620607  75.317387  77.148442 -124.511726   \n",
              "10611064  0.241211 -0.660645  34.729006  63.293461  79.956060 -116.455085   \n",
              "10611065  0.244629 -0.627930  39.978030  49.316409  84.655767 -104.858405   \n",
              "10611066  0.211426 -0.578613  38.024905  32.775881  89.538580  -87.463384   \n",
              "10611067  0.254395 -0.527344  26.306154  19.897462  89.477545  -64.025883   \n",
              "\n",
              "             GNeck_y     GNeck_z               Task       Behavior_1  \\\n",
              "0           6.347657   13.427735        <undefined>      <undefined>   \n",
              "1           4.394532   16.540528        <undefined>  Synchronization   \n",
              "2          -1.953125   26.794435        <undefined>  Synchronization   \n",
              "3          -5.676270   38.085940        <undefined>  Synchronization   \n",
              "4           4.089356   41.503909        <undefined>  Synchronization   \n",
              "...              ...         ...                ...              ...   \n",
              "10611063  107.727057 -122.497566  Task treat-search         Sniffing   \n",
              "10611064   97.534186 -123.229988  Task treat-search         Sniffing   \n",
              "10611065   95.458990 -124.816902  Task treat-search         Sniffing   \n",
              "10611066  101.257330 -128.601082  Task treat-search         Sniffing   \n",
              "10611067   93.688971 -128.906258  Task treat-search         Sniffing   \n",
              "\n",
              "           Behavior_2   Behavior_3   PointEvent  \n",
              "0         <undefined>  <undefined>  <undefined>  \n",
              "1         <undefined>  <undefined>  <undefined>  \n",
              "2         <undefined>  <undefined>  <undefined>  \n",
              "3         <undefined>  <undefined>  <undefined>  \n",
              "4         <undefined>  <undefined>  <undefined>  \n",
              "...               ...          ...          ...  \n",
              "10611063  <undefined>  <undefined>  <undefined>  \n",
              "10611064  <undefined>  <undefined>  <undefined>  \n",
              "10611065  <undefined>  <undefined>  <undefined>  \n",
              "10611066  <undefined>  <undefined>  <undefined>  \n",
              "10611067  <undefined>  <undefined>  <undefined>  \n",
              "\n",
              "[10611068 rows x 20 columns]>"
            ]
          },
          "metadata": {},
          "execution_count": 3
        }
      ]
    },
    {
      "cell_type": "code",
      "source": [
        "dog_data.describe"
      ],
      "metadata": {
        "colab": {
          "base_uri": "https://localhost:8080/"
        },
        "id": "ViFNFQf5SLok",
        "outputId": "0106735a-d8ad-4d58-f071-748998ae6929"
      },
      "execution_count": null,
      "outputs": [
        {
          "output_type": "execute_result",
          "data": {
            "text/plain": [
              "<bound method NDFrame.describe of     DogID                               Breed  Weight  Age months  Gender  \\\n",
              "0      16                          Crossbreed      13          20       1   \n",
              "1      18                    Belgian Shepherd      29          76       2   \n",
              "2      19                     German Shepherd      30          57       1   \n",
              "3      20                       Border Collie      15          47       1   \n",
              "4      21                    Golden Retriever      39          19       2   \n",
              "5      22                           Beauceron      35          20       2   \n",
              "6      23                  Labrador Retriever      23         113       1   \n",
              "7      25                    Finnish Lapphund      26          88       2   \n",
              "8      26                   Spanish Water Dog      20          47       2   \n",
              "9      27                                Mudi      16          99       2   \n",
              "10     28                            Hovawart      28         109       1   \n",
              "11     29                          Crossbreed      13          32       2   \n",
              "12     30            Bull Terrier (Miniature)      17          31       1   \n",
              "13     33                Bouvier des Ardennes      23          24       2   \n",
              "14     34                       Smooth Collie      18          98       1   \n",
              "15     36                          Crossbreed      20          95       2   \n",
              "16     39                       Border Collie      15          60       1   \n",
              "17     41           Belgian Shepherd Malinois      25          22       2   \n",
              "18     43                   Lagotto Romagnolo      14         116       2   \n",
              "19     44                          Crossbreed      19          67       1   \n",
              "20     45                    Lapponian Herder      22         101       2   \n",
              "21     46                    Lapponian Herder      20          64       2   \n",
              "22     47                Bouvier des Ardennes      22          56       1   \n",
              "23     48                  Labrador Retriever      30          39       2   \n",
              "24     49            English Springer Spaniel      25          67       2   \n",
              "25     51                   Spanish Water Dog      25          79       2   \n",
              "26     52                      Dutch Shepherd      25          59       1   \n",
              "27     53                     German Shepherd      35          87       1   \n",
              "28     54                   Australian Kelpie      18          20       2   \n",
              "29     55                              Vizsla      25          61       2   \n",
              "30     56                       Border Collie      20          56       1   \n",
              "31     57                           Beauceron      28          52       1   \n",
              "32     58                           Beauceron      28          27       1   \n",
              "33     59                       Border Collie      16          16       2   \n",
              "34     60                     Standard Poodle      31          76       2   \n",
              "35     61                            Hovawart      41          33       2   \n",
              "36     63                  Labrador Retriever      37          30       2   \n",
              "37     65  Nova Scotia Duck Tolling Retriever      20          84       1   \n",
              "38     66                    Golden Retriever      23          28       1   \n",
              "39     67                    Golden Retriever      28          44       1   \n",
              "40     68               Flat-Coated Retriever      28          34       1   \n",
              "41     70        Belgian Shepherd Groenendael      20          85       1   \n",
              "42     72                             Bouvier      30          33       1   \n",
              "43     73                      Dutch Shepherd      23          51       1   \n",
              "44     74                     German Shepherd      32          90       1   \n",
              "\n",
              "    NeuteringStatus  \n",
              "0                 0  \n",
              "1                 0  \n",
              "2                 0  \n",
              "3                 0  \n",
              "4                 0  \n",
              "5                 0  \n",
              "6                 1  \n",
              "7                 1  \n",
              "8                 0  \n",
              "9                 1  \n",
              "10                1  \n",
              "11                0  \n",
              "12                1  \n",
              "13                0  \n",
              "14                0  \n",
              "15                0  \n",
              "16                0  \n",
              "17                0  \n",
              "18                0  \n",
              "19                1  \n",
              "20                0  \n",
              "21                0  \n",
              "22                1  \n",
              "23                0  \n",
              "24                0  \n",
              "25                0  \n",
              "26                0  \n",
              "27                1  \n",
              "28                1  \n",
              "29                1  \n",
              "30                0  \n",
              "31                1  \n",
              "32                0  \n",
              "33                0  \n",
              "34                1  \n",
              "35                0  \n",
              "36                1  \n",
              "37                1  \n",
              "38                0  \n",
              "39                0  \n",
              "40                0  \n",
              "41                0  \n",
              "42                0  \n",
              "43                0  \n",
              "44                1  >"
            ]
          },
          "metadata": {},
          "execution_count": 4
        }
      ]
    },
    {
      "cell_type": "code",
      "source": [
        "data_train = data[data[\"TestNum\"] == 1]\n",
        "data_test = data[data[\"TestNum\"] == 2]\n",
        "\n",
        "# print(data_train)\n",
        "train_x = data_train.iloc[:,2:15]\n",
        "test_x = data_test.iloc[:,2:15]\n",
        "print(train_x)\n",
        "print(\"----------------------------------\")\n",
        "print(test_x)\n"
      ],
      "metadata": {
        "colab": {
          "base_uri": "https://localhost:8080/"
        },
        "id": "JFPHWid8SVHU",
        "outputId": "41483f3d-183d-4f0d-c0bf-86568021eae8"
      },
      "execution_count": null,
      "outputs": [
        {
          "output_type": "stream",
          "name": "stdout",
          "text": [
            "            t_sec   ABack_x   ABack_y   ABack_z   ANeck_x   ANeck_y   ANeck_z  \\\n",
            "0            0.00  0.041504  0.938965 -0.015137 -0.067871 -0.510254 -0.934570   \n",
            "1            0.01  0.041992  0.941895 -0.020020 -0.128906 -0.494141 -0.913086   \n",
            "2            0.02  0.040527  0.939453 -0.004395 -0.158691 -0.480469 -0.911133   \n",
            "3            0.03  0.021484  0.946289  0.007813 -0.122070 -0.486816 -0.880371   \n",
            "4            0.04 -0.000977  0.951172  0.033691 -0.053711 -0.500000 -0.807129   \n",
            "...           ...       ...       ...       ...       ...       ...       ...   \n",
            "10418239  1956.83  0.092773  0.262207  0.907715 -0.920410  1.013184 -0.629395   \n",
            "10418240  1956.84  0.104492  0.276367  0.930664 -0.836426  0.961914 -0.593262   \n",
            "10418241  1956.85  0.119629  0.336914  0.950195 -0.725586  0.887695 -0.581055   \n",
            "10418242  1956.86  0.113770  0.368652  0.949707 -0.622070  0.811035 -0.532715   \n",
            "10418243  1956.87  0.106445  0.364746  0.913086 -0.527344  0.754395 -0.462891   \n",
            "\n",
            "            GBack_x    GBack_y    GBack_z    GNeck_x    GNeck_y    GNeck_z  \n",
            "0        -17.639161 -22.766115   7.446290  -7.934571   6.347657  13.427735  \n",
            "1        -15.075685 -11.413575   4.821778  -3.906250   4.394532  16.540528  \n",
            "2        -12.207032  -0.122070   2.807617  -0.488281  -1.953125  26.794435  \n",
            "3         -9.460450   7.995606   1.586914   1.159668  -5.676270  38.085940  \n",
            "4         -8.361817  14.587403  -1.037598   4.577637   4.089356  41.503909  \n",
            "...             ...        ...        ...        ...        ...        ...  \n",
            "10418239 -24.169923 -10.681153  30.639650 -10.192872  52.795413 -18.554689  \n",
            "10418240 -13.122559  -9.094239  26.550295 -21.911622  43.212893  -2.136231  \n",
            "10418241   1.708984  -7.202149  23.925783 -29.846193  40.039065   8.544922  \n",
            "10418242   9.338379  -1.464844  23.071290 -33.142092  38.024905  14.282227  \n",
            "10418243  11.291505   2.929688  22.949220 -32.165529  37.597659  16.845704  \n",
            "\n",
            "[7077556 rows x 13 columns]\n",
            "----------------------------------\n",
            "            t_sec   ABack_x   ABack_y   ABack_z   ANeck_x   ANeck_y   ANeck_z  \\\n",
            "164004       0.00 -0.068359  0.977051 -0.004883  0.706055 -0.408203 -0.988281   \n",
            "164005       0.01 -0.067871  0.972656 -0.003418  0.704590 -0.303711 -1.119141   \n",
            "164006       0.02 -0.064453  0.968750  0.003906  0.666992 -0.144043 -1.178711   \n",
            "164007       0.03 -0.059082  0.961426  0.013184  0.573730  0.001465 -1.031738   \n",
            "164008       0.04 -0.046875  0.953613  0.014648  0.605957  0.082031 -0.818359   \n",
            "...           ...       ...       ...       ...       ...       ...       ...   \n",
            "10611063  1928.19  0.018066  0.436523  0.808105 -0.620605  0.326172 -0.647949   \n",
            "10611064  1928.20 -0.021973  0.515625  0.813965 -0.671875  0.241211 -0.660645   \n",
            "10611065  1928.21 -0.041504  0.507324  0.782227 -0.674805  0.244629 -0.627930   \n",
            "10611066  1928.22 -0.032715  0.484375  0.824219 -0.685059  0.211426 -0.578613   \n",
            "10611067  1928.23  0.033691  0.432617  0.785645 -0.664063  0.254395 -0.527344   \n",
            "\n",
            "            GBack_x    GBack_y    GBack_z     GNeck_x     GNeck_y     GNeck_z  \n",
            "164004     1.586914  -5.859375   1.342774   24.108888  -50.415042 -100.219733  \n",
            "164005     0.183105  -5.065918   2.380371   41.809085  -12.512208 -135.070809  \n",
            "164006    -1.220703  -4.394532   3.417969   62.438969   -9.216309 -160.827647  \n",
            "164007    -2.197266  -4.333496   4.455567   80.749517  -33.508303 -175.170909  \n",
            "164008    -2.441406  -4.821778   4.760742   87.219244  -57.983402 -173.889171  \n",
            "...             ...        ...        ...         ...         ...         ...  \n",
            "10611063  23.620607  75.317387  77.148442 -124.511726  107.727057 -122.497566  \n",
            "10611064  34.729006  63.293461  79.956060 -116.455085   97.534186 -123.229988  \n",
            "10611065  39.978030  49.316409  84.655767 -104.858405   95.458990 -124.816902  \n",
            "10611066  38.024905  32.775881  89.538580  -87.463384  101.257330 -128.601082  \n",
            "10611067  26.306154  19.897462  89.477545  -64.025883   93.688971 -128.906258  \n",
            "\n",
            "[3533512 rows x 13 columns]\n"
          ]
        }
      ]
    },
    {
      "cell_type": "code",
      "source": [
        "# d_y = data_train.iloc[:,15:]\n",
        "train_y = data_train.iloc[:,16]\n",
        "test_y = data_test.iloc[:,16]\n",
        "\n",
        "print(train_y)\n",
        "print(\"----------------------------------\")\n",
        "print(test_y)"
      ],
      "metadata": {
        "colab": {
          "base_uri": "https://localhost:8080/"
        },
        "id": "RWNlWprzSlEg",
        "outputId": "435df468-964f-44e1-fe41-70fcbc34c796"
      },
      "execution_count": null,
      "outputs": [
        {
          "output_type": "stream",
          "name": "stdout",
          "text": [
            "0               <undefined>\n",
            "1           Synchronization\n",
            "2           Synchronization\n",
            "3           Synchronization\n",
            "4           Synchronization\n",
            "                 ...       \n",
            "10418239           Sniffing\n",
            "10418240           Sniffing\n",
            "10418241           Sniffing\n",
            "10418242           Sniffing\n",
            "10418243           Sniffing\n",
            "Name: Behavior_1, Length: 7077556, dtype: object\n",
            "----------------------------------\n",
            "164004          <undefined>\n",
            "164005      Synchronization\n",
            "164006      Synchronization\n",
            "164007      Synchronization\n",
            "164008      Synchronization\n",
            "                 ...       \n",
            "10611063           Sniffing\n",
            "10611064           Sniffing\n",
            "10611065           Sniffing\n",
            "10611066           Sniffing\n",
            "10611067           Sniffing\n",
            "Name: Behavior_1, Length: 3533512, dtype: object\n"
          ]
        }
      ]
    },
    {
      "cell_type": "code",
      "source": [
        "a = data.drop_duplicates([\"Behavior_1\"]).Behavior_1.values\n",
        "b = data.drop_duplicates([\"Behavior_2\"]).Behavior_2.values\n",
        "c = data.drop_duplicates([\"Behavior_3\"]).Behavior_3.values\n",
        "\n",
        "\n",
        "d = np.concatenate([a,b,c])\n",
        "d = np.unique(d)\n",
        "le = LabelEncoder()\n",
        "le.fit(d)\n",
        "\n",
        "train_y = le.transform(train_y)\n",
        "test_y = le.transform(test_y)\n",
        "print(train_y)\n",
        "print(test_y)"
      ],
      "metadata": {
        "colab": {
          "base_uri": "https://localhost:8080/"
        },
        "id": "xTmcEVX8TgmD",
        "outputId": "986c5dcb-c053-48dd-b1f3-339f7276be3d"
      },
      "execution_count": null,
      "outputs": [
        {
          "output_type": "stream",
          "name": "stdout",
          "text": [
            "[ 0 16 16 ... 14 14 14]\n",
            "[ 0 16 16 ... 14 14 14]\n"
          ]
        }
      ]
    },
    {
      "cell_type": "code",
      "source": [
        "t_s = pd.Series(train_y)\n",
        "te_s = pd.Series(test_y)\n",
        "print(t_s.value_counts().sort_index())\n",
        "print(te_s.value_counts().sort_index())"
      ],
      "metadata": {
        "colab": {
          "base_uri": "https://localhost:8080/"
        },
        "id": "gLfKSMht7GR_",
        "outputId": "94f086fc-24a1-4aa9-e561-70736d2d4be0"
      },
      "execution_count": null,
      "outputs": [
        {
          "output_type": "stream",
          "name": "stdout",
          "text": [
            "0     2847846\n",
            "1         243\n",
            "2       11084\n",
            "3       51971\n",
            "4      111644\n",
            "5         287\n",
            "6        7307\n",
            "7        3470\n",
            "8      662646\n",
            "9       54776\n",
            "10     544399\n",
            "11     566919\n",
            "12      28421\n",
            "13     321122\n",
            "14     645223\n",
            "15     273451\n",
            "16      10385\n",
            "17     463516\n",
            "18      11748\n",
            "19     461098\n",
            "dtype: int64\n",
            "0     1189353\n",
            "1         275\n",
            "2        6867\n",
            "3       12750\n",
            "4       54566\n",
            "6        3521\n",
            "7         389\n",
            "8      368655\n",
            "9       22328\n",
            "10     291663\n",
            "11     295652\n",
            "12      12813\n",
            "13     188290\n",
            "14     380955\n",
            "15     175240\n",
            "16       6370\n",
            "17     254077\n",
            "18       1916\n",
            "19     267832\n",
            "dtype: int64\n"
          ]
        }
      ]
    },
    {
      "cell_type": "code",
      "source": [
        "from sklearn.neighbors import KNeighborsClassifier\n",
        "from sklearn.metrics import classification_report, confusion_matrix"
      ],
      "metadata": {
        "id": "OGY9NlXsZ0AS"
      },
      "execution_count": null,
      "outputs": []
    },
    {
      "cell_type": "code",
      "source": [
        "clf = KNeighborsClassifier(n_neighbors=15)\n",
        "clf.fit(train_x, train_y)\n",
        "y_pred = clf.predict(test_x) \n",
        "print(classification_report(test_y, y_pred))"
      ],
      "metadata": {
        "colab": {
          "base_uri": "https://localhost:8080/"
        },
        "id": "aSjoyJyi6nUo",
        "outputId": "885fb40b-b37e-4524-bbc6-1b9885e852cc"
      },
      "execution_count": null,
      "outputs": [
        {
          "output_type": "stream",
          "name": "stderr",
          "text": [
            "/usr/local/lib/python3.8/dist-packages/sklearn/metrics/_classification.py:1318: UndefinedMetricWarning: Recall and F-score are ill-defined and being set to 0.0 in labels with no true samples. Use `zero_division` parameter to control this behavior.\n",
            "  _warn_prf(average, modifier, msg_start, len(result))\n",
            "/usr/local/lib/python3.8/dist-packages/sklearn/metrics/_classification.py:1318: UndefinedMetricWarning: Recall and F-score are ill-defined and being set to 0.0 in labels with no true samples. Use `zero_division` parameter to control this behavior.\n",
            "  _warn_prf(average, modifier, msg_start, len(result))\n"
          ]
        },
        {
          "output_type": "stream",
          "name": "stdout",
          "text": [
            "              precision    recall  f1-score   support\n",
            "\n",
            "           0       0.43      0.67      0.52   1189353\n",
            "           1       0.00      0.00      0.00       275\n",
            "           2       0.01      0.00      0.00      6867\n",
            "           3       0.13      0.20      0.16     12750\n",
            "           4       0.06      0.03      0.04     54566\n",
            "           5       0.00      0.00      0.00         0\n",
            "           6       0.00      0.00      0.00      3521\n",
            "           7       0.00      0.00      0.00       389\n",
            "           8       0.32      0.29      0.30    368655\n",
            "           9       0.01      0.00      0.00     22328\n",
            "          10       0.24      0.23      0.24    291663\n",
            "          11       0.49      0.33      0.39    295652\n",
            "          12       0.71      0.70      0.71     12813\n",
            "          13       0.16      0.16      0.16    188290\n",
            "          14       0.81      0.45      0.58    380955\n",
            "          15       0.12      0.08      0.10    175240\n",
            "          16       0.74      0.42      0.54      6370\n",
            "          17       0.33      0.19      0.24    254077\n",
            "          18       0.00      0.00      0.00      1916\n",
            "          19       0.27      0.14      0.18    267832\n",
            "\n",
            "    accuracy                           0.39   3533512\n",
            "   macro avg       0.24      0.19      0.21   3533512\n",
            "weighted avg       0.39      0.39      0.37   3533512\n",
            "\n"
          ]
        },
        {
          "output_type": "stream",
          "name": "stderr",
          "text": [
            "/usr/local/lib/python3.8/dist-packages/sklearn/metrics/_classification.py:1318: UndefinedMetricWarning: Recall and F-score are ill-defined and being set to 0.0 in labels with no true samples. Use `zero_division` parameter to control this behavior.\n",
            "  _warn_prf(average, modifier, msg_start, len(result))\n"
          ]
        }
      ]
    },
    {
      "cell_type": "code",
      "source": [
        "from sklearn.ensemble import RandomForestClassifier\n",
        "# for i in range(10,100,10):\n",
        "rfc = RandomForestClassifier(n_estimators=20)\n",
        "rfc.fit(train_x, train_y)\n",
        "y_pred = rfc.predict(test_x)\n",
        "print(classification_report(test_y, y_pred))"
      ],
      "metadata": {
        "id": "Bd7U5FOD7RTS"
      },
      "execution_count": null,
      "outputs": []
    },
    {
      "cell_type": "markdown",
      "source": [],
      "metadata": {
        "id": "AGdXFsjPf-47"
      }
    },
    {
      "cell_type": "code",
      "source": [
        "from sklearn.preprocessing import StandardScaler, MinMaxScaler\n",
        "sc = StandardScaler()\n",
        "train_x_scaled = sc.fit_transform(train_x)\n",
        "test_x_scaled = sc.transform(test_x)"
      ],
      "metadata": {
        "id": "Kn9L1AfPVgVW"
      },
      "execution_count": null,
      "outputs": []
    },
    {
      "cell_type": "code",
      "source": [
        "\n",
        "clf = KNeighborsClassifier(n_neighbors=15)\n",
        "clf.fit(train_x_scaled, train_y)    \n",
        "y_pred = clf.predict(test_x_scaled)\n",
        "print(classification_report(test_y, y_pred))"
      ],
      "metadata": {
        "id": "A0BwN3h5WNAI"
      },
      "execution_count": null,
      "outputs": []
    },
    {
      "cell_type": "code",
      "source": [
        "# from sklearn.metrics import classification_report, confusion_matrix\n",
        "# print(confusion_matrix(test_y[:100000], y_pred))\n",
        "# print(\"-------------------------\")\n",
        "# print(classification_report(test_y[:100000], y_pred))"
      ],
      "metadata": {
        "colab": {
          "base_uri": "https://localhost:8080/"
        },
        "id": "Pho7gx3q7hVa",
        "outputId": "5657174a-898d-47f3-e71e-9cac11ae2cb3"
      },
      "execution_count": null,
      "outputs": [
        {
          "output_type": "stream",
          "name": "stdout",
          "text": [
            "[[21152     0    21    74   271     3     2     0   638   113   715   991\n",
            "     27  1099    19   374    25  1237    11  1931]\n",
            " [    0     0     0     0     0     0     0     0     0     0     0     0\n",
            "      0     0     0     0     0     0     0     0]\n",
            " [    0     0     0     0     0     0     0     0     0     0     0     0\n",
            "      0     0     0     0     0     0     0     0]\n",
            " [    0     0     0     0     0     0     0     0     0     0     0     0\n",
            "      0     0     0     0     0     0     0     0]\n",
            " [  626     0     0     0    50     0     0     0   114     0    89     9\n",
            "      0   132     2    39     0     2     0   105]\n",
            " [    0     0     0     0     0     0     0     0     0     0     0     0\n",
            "      0     0     0     0     0     0     0     0]\n",
            " [    0     0     0     0     0     0     0     0     0     0     0     0\n",
            "      0     0     0     0     0     0     0     0]\n",
            " [    0     0     0     0     0     0     0     0     0     0     0     0\n",
            "      0     0     0     0     0     0     0     0]\n",
            " [    0     0     0     0     0     0     0     0     0     0     0     0\n",
            "      0     0     0     0     0     0     0     0]\n",
            " [  178     0     0     1     0     0     1     0     0     5     2    10\n",
            "      0     0     0     0     0    83     0    10]\n",
            " [  167     0     0     0     3     0     0     0   117     0   206    10\n",
            "      0   657     0    31     0     0     0     8]\n",
            " [ 9469     0    21     0    16     1    43     3     0    56     0  4710\n",
            "    127     0   231     0    18  1506    86   422]\n",
            " [  121     0     0     0     0     0     1     0     0     0     0   101\n",
            "    367     0     0     0     1     9     1     0]\n",
            " [ 3907     0     0     8    58     0     0     0 10354     0  1082     1\n",
            "      0   974     1  2374     0     0     0    68]\n",
            " [ 1034     0     0     0    19     0     0     0    20     0    20    69\n",
            "      0    19     1    13     0    42     0    92]\n",
            " [ 3358     0     0     1    51     0     0     0  1030     0  1326    21\n",
            "      0  6819     0   246     0     0     0     7]\n",
            " [  275     0     0     0     0     1     0     0     0     0     0     0\n",
            "      0     0     0     0   114     1     0     0]\n",
            " [ 2419     0     0     4     4     0     9     0     4    72     1   249\n",
            "      6     2     1     1     0  1444     0    36]\n",
            " [    0     0     0     0     0     0     0     0     0     0     0     0\n",
            "      0     0     0     0     0     0     0     0]\n",
            " [ 8994     2    56     1   130     0     0     0   233    24   404   417\n",
            "      2   100    24   149     0   236     0  2900]]\n",
            "-------------------------\n",
            "              precision    recall  f1-score   support\n",
            "\n",
            "           0       0.41      0.74      0.53     28703\n",
            "           1       0.00      0.00      0.00         0\n",
            "           2       0.00      0.00      0.00         0\n",
            "           3       0.00      0.00      0.00         0\n",
            "           4       0.08      0.04      0.06      1168\n",
            "           5       0.00      0.00      0.00         0\n",
            "           6       0.00      0.00      0.00         0\n",
            "           7       0.00      0.00      0.00         0\n",
            "           8       0.00      0.00      0.00         0\n",
            "           9       0.02      0.02      0.02       290\n",
            "          10       0.05      0.17      0.08      1199\n",
            "          11       0.71      0.28      0.40     16709\n",
            "          12       0.69      0.61      0.65       601\n",
            "          13       0.10      0.05      0.07     18827\n",
            "          14       0.00      0.00      0.00      1329\n",
            "          15       0.08      0.02      0.03     12859\n",
            "          16       0.72      0.29      0.42       391\n",
            "          17       0.32      0.34      0.33      4252\n",
            "          18       0.00      0.00      0.00         0\n",
            "          19       0.52      0.21      0.30     13672\n",
            "\n",
            "    accuracy                           0.32    100000\n",
            "   macro avg       0.19      0.14      0.14    100000\n",
            "weighted avg       0.36      0.32      0.30    100000\n",
            "\n"
          ]
        },
        {
          "output_type": "stream",
          "name": "stderr",
          "text": [
            "/usr/local/lib/python3.8/dist-packages/sklearn/metrics/_classification.py:1318: UndefinedMetricWarning: Recall and F-score are ill-defined and being set to 0.0 in labels with no true samples. Use `zero_division` parameter to control this behavior.\n",
            "  _warn_prf(average, modifier, msg_start, len(result))\n",
            "/usr/local/lib/python3.8/dist-packages/sklearn/metrics/_classification.py:1318: UndefinedMetricWarning: Recall and F-score are ill-defined and being set to 0.0 in labels with no true samples. Use `zero_division` parameter to control this behavior.\n",
            "  _warn_prf(average, modifier, msg_start, len(result))\n",
            "/usr/local/lib/python3.8/dist-packages/sklearn/metrics/_classification.py:1318: UndefinedMetricWarning: Recall and F-score are ill-defined and being set to 0.0 in labels with no true samples. Use `zero_division` parameter to control this behavior.\n",
            "  _warn_prf(average, modifier, msg_start, len(result))\n"
          ]
        }
      ]
    },
    {
      "cell_type": "code",
      "source": [
        "s=svm.SVC(gamma=0.1,C=10)\n",
        "s.fit(train_x,train_y)"
      ],
      "metadata": {
        "id": "07vmRqGf_ssX"
      },
      "execution_count": null,
      "outputs": []
    },
    {
      "cell_type": "code",
      "source": [
        "model = Sequential()\n",
        "model.add(LSTM(units=128,activation = 'relu',input_shape=train_x.shape))\n",
        "model.add(Dense(1))\n",
        "model.compile(loss='mae',optimizer='adam', metrics=['mae']) \n",
        "hist = model.fit(train_x,train_y,epochs= 200, batch_size = 1, validation_data = (test_x,test_y),verbose = 2)"
      ],
      "metadata": {
        "colab": {
          "base_uri": "https://localhost:8080/",
          "height": 525
        },
        "id": "BGW1AQ8kHM3T",
        "outputId": "d2245ddf-3f5e-4681-efe6-bf027cbfb114"
      },
      "execution_count": null,
      "outputs": [
        {
          "output_type": "error",
          "ename": "KeyError",
          "evalue": "ignored",
          "traceback": [
            "\u001b[0;31m---------------------------------------------------------------------------\u001b[0m",
            "\u001b[0;31mKeyError\u001b[0m                                  Traceback (most recent call last)",
            "\u001b[0;32m/usr/local/lib/python3.8/dist-packages/pandas/core/indexes/base.py\u001b[0m in \u001b[0;36mget_loc\u001b[0;34m(self, key, method, tolerance)\u001b[0m\n\u001b[1;32m   3360\u001b[0m             \u001b[0;32mtry\u001b[0m\u001b[0;34m:\u001b[0m\u001b[0;34m\u001b[0m\u001b[0;34m\u001b[0m\u001b[0m\n\u001b[0;32m-> 3361\u001b[0;31m                 \u001b[0;32mreturn\u001b[0m \u001b[0mself\u001b[0m\u001b[0;34m.\u001b[0m\u001b[0m_engine\u001b[0m\u001b[0;34m.\u001b[0m\u001b[0mget_loc\u001b[0m\u001b[0;34m(\u001b[0m\u001b[0mcasted_key\u001b[0m\u001b[0;34m)\u001b[0m\u001b[0;34m\u001b[0m\u001b[0;34m\u001b[0m\u001b[0m\n\u001b[0m\u001b[1;32m   3362\u001b[0m             \u001b[0;32mexcept\u001b[0m \u001b[0mKeyError\u001b[0m \u001b[0;32mas\u001b[0m \u001b[0merr\u001b[0m\u001b[0;34m:\u001b[0m\u001b[0;34m\u001b[0m\u001b[0;34m\u001b[0m\u001b[0m\n",
            "\u001b[0;32m/usr/local/lib/python3.8/dist-packages/pandas/_libs/index.pyx\u001b[0m in \u001b[0;36mpandas._libs.index.IndexEngine.get_loc\u001b[0;34m()\u001b[0m\n",
            "\u001b[0;32m/usr/local/lib/python3.8/dist-packages/pandas/_libs/index.pyx\u001b[0m in \u001b[0;36mpandas._libs.index.IndexEngine.get_loc\u001b[0;34m()\u001b[0m\n",
            "\u001b[0;32mpandas/_libs/hashtable_class_helper.pxi\u001b[0m in \u001b[0;36mpandas._libs.hashtable.PyObjectHashTable.get_item\u001b[0;34m()\u001b[0m\n",
            "\u001b[0;32mpandas/_libs/hashtable_class_helper.pxi\u001b[0m in \u001b[0;36mpandas._libs.hashtable.PyObjectHashTable.get_item\u001b[0;34m()\u001b[0m\n",
            "\u001b[0;31mKeyError\u001b[0m: 0",
            "\nThe above exception was the direct cause of the following exception:\n",
            "\u001b[0;31mKeyError\u001b[0m                                  Traceback (most recent call last)",
            "\u001b[0;32m<ipython-input-19-4de49c98064e>\u001b[0m in \u001b[0;36m<module>\u001b[0;34m\u001b[0m\n\u001b[1;32m      1\u001b[0m \u001b[0mmodel\u001b[0m \u001b[0;34m=\u001b[0m \u001b[0mSequential\u001b[0m\u001b[0;34m(\u001b[0m\u001b[0;34m)\u001b[0m\u001b[0;34m\u001b[0m\u001b[0;34m\u001b[0m\u001b[0m\n\u001b[0;32m----> 2\u001b[0;31m \u001b[0mmodel\u001b[0m\u001b[0;34m.\u001b[0m\u001b[0madd\u001b[0m\u001b[0;34m(\u001b[0m\u001b[0mLSTM\u001b[0m\u001b[0;34m(\u001b[0m\u001b[0munits\u001b[0m\u001b[0;34m=\u001b[0m\u001b[0;36m128\u001b[0m\u001b[0;34m,\u001b[0m\u001b[0mactivation\u001b[0m \u001b[0;34m=\u001b[0m \u001b[0;34m'relu'\u001b[0m\u001b[0;34m,\u001b[0m\u001b[0minput_shape\u001b[0m\u001b[0;34m=\u001b[0m\u001b[0mtrain_x\u001b[0m\u001b[0;34m[\u001b[0m\u001b[0;36m0\u001b[0m\u001b[0;34m]\u001b[0m\u001b[0;34m.\u001b[0m\u001b[0mshape\u001b[0m\u001b[0;34m)\u001b[0m\u001b[0;34m)\u001b[0m\u001b[0;34m\u001b[0m\u001b[0;34m\u001b[0m\u001b[0m\n\u001b[0m\u001b[1;32m      3\u001b[0m \u001b[0mmodel\u001b[0m\u001b[0;34m.\u001b[0m\u001b[0madd\u001b[0m\u001b[0;34m(\u001b[0m\u001b[0mDense\u001b[0m\u001b[0;34m(\u001b[0m\u001b[0;36m1\u001b[0m\u001b[0;34m)\u001b[0m\u001b[0;34m)\u001b[0m\u001b[0;34m\u001b[0m\u001b[0;34m\u001b[0m\u001b[0m\n\u001b[1;32m      4\u001b[0m \u001b[0mmodel\u001b[0m\u001b[0;34m.\u001b[0m\u001b[0mcompile\u001b[0m\u001b[0;34m(\u001b[0m\u001b[0mloss\u001b[0m\u001b[0;34m=\u001b[0m\u001b[0;34m'mae'\u001b[0m\u001b[0;34m,\u001b[0m\u001b[0moptimizer\u001b[0m\u001b[0;34m=\u001b[0m\u001b[0;34m'adam'\u001b[0m\u001b[0;34m,\u001b[0m \u001b[0mmetrics\u001b[0m\u001b[0;34m=\u001b[0m\u001b[0;34m[\u001b[0m\u001b[0;34m'mae'\u001b[0m\u001b[0;34m]\u001b[0m\u001b[0;34m)\u001b[0m\u001b[0;34m\u001b[0m\u001b[0;34m\u001b[0m\u001b[0m\n\u001b[1;32m      5\u001b[0m \u001b[0mhist\u001b[0m \u001b[0;34m=\u001b[0m \u001b[0mmodel\u001b[0m\u001b[0;34m.\u001b[0m\u001b[0mfit\u001b[0m\u001b[0;34m(\u001b[0m\u001b[0mtrain_x\u001b[0m\u001b[0;34m,\u001b[0m\u001b[0mtrain_y\u001b[0m\u001b[0;34m,\u001b[0m\u001b[0mepochs\u001b[0m\u001b[0;34m=\u001b[0m \u001b[0;36m200\u001b[0m\u001b[0;34m,\u001b[0m \u001b[0mbatch_size\u001b[0m \u001b[0;34m=\u001b[0m \u001b[0;36m1\u001b[0m\u001b[0;34m,\u001b[0m \u001b[0mvalidation_data\u001b[0m \u001b[0;34m=\u001b[0m \u001b[0;34m(\u001b[0m\u001b[0mtest_x\u001b[0m\u001b[0;34m,\u001b[0m\u001b[0mtest_y\u001b[0m\u001b[0;34m)\u001b[0m\u001b[0;34m,\u001b[0m\u001b[0mverbose\u001b[0m \u001b[0;34m=\u001b[0m \u001b[0;36m1\u001b[0m\u001b[0;34m)\u001b[0m\u001b[0;34m\u001b[0m\u001b[0;34m\u001b[0m\u001b[0m\n",
            "\u001b[0;32m/usr/local/lib/python3.8/dist-packages/pandas/core/frame.py\u001b[0m in \u001b[0;36m__getitem__\u001b[0;34m(self, key)\u001b[0m\n\u001b[1;32m   3456\u001b[0m             \u001b[0;32mif\u001b[0m \u001b[0mself\u001b[0m\u001b[0;34m.\u001b[0m\u001b[0mcolumns\u001b[0m\u001b[0;34m.\u001b[0m\u001b[0mnlevels\u001b[0m \u001b[0;34m>\u001b[0m \u001b[0;36m1\u001b[0m\u001b[0;34m:\u001b[0m\u001b[0;34m\u001b[0m\u001b[0;34m\u001b[0m\u001b[0m\n\u001b[1;32m   3457\u001b[0m                 \u001b[0;32mreturn\u001b[0m \u001b[0mself\u001b[0m\u001b[0;34m.\u001b[0m\u001b[0m_getitem_multilevel\u001b[0m\u001b[0;34m(\u001b[0m\u001b[0mkey\u001b[0m\u001b[0;34m)\u001b[0m\u001b[0;34m\u001b[0m\u001b[0;34m\u001b[0m\u001b[0m\n\u001b[0;32m-> 3458\u001b[0;31m             \u001b[0mindexer\u001b[0m \u001b[0;34m=\u001b[0m \u001b[0mself\u001b[0m\u001b[0;34m.\u001b[0m\u001b[0mcolumns\u001b[0m\u001b[0;34m.\u001b[0m\u001b[0mget_loc\u001b[0m\u001b[0;34m(\u001b[0m\u001b[0mkey\u001b[0m\u001b[0;34m)\u001b[0m\u001b[0;34m\u001b[0m\u001b[0;34m\u001b[0m\u001b[0m\n\u001b[0m\u001b[1;32m   3459\u001b[0m             \u001b[0;32mif\u001b[0m \u001b[0mis_integer\u001b[0m\u001b[0;34m(\u001b[0m\u001b[0mindexer\u001b[0m\u001b[0;34m)\u001b[0m\u001b[0;34m:\u001b[0m\u001b[0;34m\u001b[0m\u001b[0;34m\u001b[0m\u001b[0m\n\u001b[1;32m   3460\u001b[0m                 \u001b[0mindexer\u001b[0m \u001b[0;34m=\u001b[0m \u001b[0;34m[\u001b[0m\u001b[0mindexer\u001b[0m\u001b[0;34m]\u001b[0m\u001b[0;34m\u001b[0m\u001b[0;34m\u001b[0m\u001b[0m\n",
            "\u001b[0;32m/usr/local/lib/python3.8/dist-packages/pandas/core/indexes/base.py\u001b[0m in \u001b[0;36mget_loc\u001b[0;34m(self, key, method, tolerance)\u001b[0m\n\u001b[1;32m   3361\u001b[0m                 \u001b[0;32mreturn\u001b[0m \u001b[0mself\u001b[0m\u001b[0;34m.\u001b[0m\u001b[0m_engine\u001b[0m\u001b[0;34m.\u001b[0m\u001b[0mget_loc\u001b[0m\u001b[0;34m(\u001b[0m\u001b[0mcasted_key\u001b[0m\u001b[0;34m)\u001b[0m\u001b[0;34m\u001b[0m\u001b[0;34m\u001b[0m\u001b[0m\n\u001b[1;32m   3362\u001b[0m             \u001b[0;32mexcept\u001b[0m \u001b[0mKeyError\u001b[0m \u001b[0;32mas\u001b[0m \u001b[0merr\u001b[0m\u001b[0;34m:\u001b[0m\u001b[0;34m\u001b[0m\u001b[0;34m\u001b[0m\u001b[0m\n\u001b[0;32m-> 3363\u001b[0;31m                 \u001b[0;32mraise\u001b[0m \u001b[0mKeyError\u001b[0m\u001b[0;34m(\u001b[0m\u001b[0mkey\u001b[0m\u001b[0;34m)\u001b[0m \u001b[0;32mfrom\u001b[0m \u001b[0merr\u001b[0m\u001b[0;34m\u001b[0m\u001b[0;34m\u001b[0m\u001b[0m\n\u001b[0m\u001b[1;32m   3364\u001b[0m \u001b[0;34m\u001b[0m\u001b[0m\n\u001b[1;32m   3365\u001b[0m         \u001b[0;32mif\u001b[0m \u001b[0mis_scalar\u001b[0m\u001b[0;34m(\u001b[0m\u001b[0mkey\u001b[0m\u001b[0;34m)\u001b[0m \u001b[0;32mand\u001b[0m \u001b[0misna\u001b[0m\u001b[0;34m(\u001b[0m\u001b[0mkey\u001b[0m\u001b[0;34m)\u001b[0m \u001b[0;32mand\u001b[0m \u001b[0;32mnot\u001b[0m \u001b[0mself\u001b[0m\u001b[0;34m.\u001b[0m\u001b[0mhasnans\u001b[0m\u001b[0;34m:\u001b[0m\u001b[0;34m\u001b[0m\u001b[0;34m\u001b[0m\u001b[0m\n",
            "\u001b[0;31mKeyError\u001b[0m: 0"
          ]
        }
      ]
    }
  ]
}